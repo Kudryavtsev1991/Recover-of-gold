{
 "cells": [
  {
   "cell_type": "markdown",
   "metadata": {},
   "source": [
    "# Восстановление золота из руды"
   ]
  },
  {
   "cell_type": "markdown",
   "metadata": {},
   "source": [
    "Компания разрабатывает решения для эффективной работы промышленных предприятий.\n",
    "\n",
    "Модель должна предсказать коэффициент восстановления золота из золотосодержащей руды. В проекте будут использоваться данные с параметрами добычи и очистки.\n",
    "\n",
    "Модель поможет оптимизировать производство, чтобы не запускать предприятие с убыточными характеристиками.\n",
    "\n",
    "Нам необходимо:\n",
    "\n",
    "Подготовить данные;\n",
    "Провести исследовательский анализ данных;\n",
    "Построить и обучить модель."
   ]
  },
  {
   "cell_type": "markdown",
   "metadata": {},
   "source": [
    "## Подготовка данных"
   ]
  },
  {
   "cell_type": "markdown",
   "metadata": {},
   "source": [
    "### Импортируем библиотеки и извлечём файлы"
   ]
  },
  {
   "cell_type": "code",
   "execution_count": 103,
   "metadata": {},
   "outputs": [],
   "source": [
    "#импортируем требуемые библиотеки\n",
    "import pandas as pd\n",
    "import numpy as np\n",
    "from random import randrange\n",
    "from sklearn.model_selection import train_test_split\n",
    "from sklearn.metrics import accuracy_score\n",
    "from sklearn.linear_model import LinearRegression\n",
    "from sklearn.tree import DecisionTreeRegressor\n",
    "from sklearn.ensemble import RandomForestRegressor\n",
    "\n",
    "from sklearn.metrics import mean_absolute_error\n",
    "from sklearn.metrics import mean_squared_error\n",
    "\n",
    "from sklearn.model_selection import cross_val_score\n",
    "from sklearn.model_selection import GridSearchCV\n",
    "from sklearn.metrics import fbeta_score, make_scorer\n",
    "\n",
    "import numpy as np\n",
    "from matplotlib import pyplot\n",
    "import seaborn as sns\n",
    "import warnings\n",
    "warnings.filterwarnings(\"ignore\")"
   ]
  },
  {
   "cell_type": "code",
   "execution_count": 2,
   "metadata": {},
   "outputs": [],
   "source": [
    "df_train = pd.read_csv('/datasets/gold_recovery_train_new.csv')\n",
    "df_test = pd.read_csv('/datasets/gold_recovery_test_new.csv')\n",
    "df = pd.read_csv('/datasets/gold_recovery_full_new.csv')"
   ]
  },
  {
   "cell_type": "code",
   "execution_count": 3,
   "metadata": {
    "scrolled": true
   },
   "outputs": [
    {
     "data": {
      "text/html": [
       "<div>\n",
       "<style scoped>\n",
       "    .dataframe tbody tr th:only-of-type {\n",
       "        vertical-align: middle;\n",
       "    }\n",
       "\n",
       "    .dataframe tbody tr th {\n",
       "        vertical-align: top;\n",
       "    }\n",
       "\n",
       "    .dataframe thead th {\n",
       "        text-align: right;\n",
       "    }\n",
       "</style>\n",
       "<table border=\"1\" class=\"dataframe\">\n",
       "  <thead>\n",
       "    <tr style=\"text-align: right;\">\n",
       "      <th></th>\n",
       "      <th>date</th>\n",
       "      <th>final.output.concentrate_ag</th>\n",
       "      <th>final.output.concentrate_pb</th>\n",
       "      <th>final.output.concentrate_sol</th>\n",
       "      <th>final.output.concentrate_au</th>\n",
       "      <th>final.output.recovery</th>\n",
       "      <th>final.output.tail_ag</th>\n",
       "      <th>final.output.tail_pb</th>\n",
       "      <th>final.output.tail_sol</th>\n",
       "      <th>final.output.tail_au</th>\n",
       "      <th>...</th>\n",
       "      <th>secondary_cleaner.state.floatbank4_a_air</th>\n",
       "      <th>secondary_cleaner.state.floatbank4_a_level</th>\n",
       "      <th>secondary_cleaner.state.floatbank4_b_air</th>\n",
       "      <th>secondary_cleaner.state.floatbank4_b_level</th>\n",
       "      <th>secondary_cleaner.state.floatbank5_a_air</th>\n",
       "      <th>secondary_cleaner.state.floatbank5_a_level</th>\n",
       "      <th>secondary_cleaner.state.floatbank5_b_air</th>\n",
       "      <th>secondary_cleaner.state.floatbank5_b_level</th>\n",
       "      <th>secondary_cleaner.state.floatbank6_a_air</th>\n",
       "      <th>secondary_cleaner.state.floatbank6_a_level</th>\n",
       "    </tr>\n",
       "  </thead>\n",
       "  <tbody>\n",
       "    <tr>\n",
       "      <th>0</th>\n",
       "      <td>2016-01-15 00:00:00</td>\n",
       "      <td>6.055403</td>\n",
       "      <td>9.889648</td>\n",
       "      <td>5.507324</td>\n",
       "      <td>42.192020</td>\n",
       "      <td>70.541216</td>\n",
       "      <td>10.411962</td>\n",
       "      <td>0.895447</td>\n",
       "      <td>16.904297</td>\n",
       "      <td>2.143149</td>\n",
       "      <td>...</td>\n",
       "      <td>14.016835</td>\n",
       "      <td>-502.488007</td>\n",
       "      <td>12.099931</td>\n",
       "      <td>-504.715942</td>\n",
       "      <td>9.925633</td>\n",
       "      <td>-498.310211</td>\n",
       "      <td>8.079666</td>\n",
       "      <td>-500.470978</td>\n",
       "      <td>14.151341</td>\n",
       "      <td>-605.841980</td>\n",
       "    </tr>\n",
       "    <tr>\n",
       "      <th>1</th>\n",
       "      <td>2016-01-15 01:00:00</td>\n",
       "      <td>6.029369</td>\n",
       "      <td>9.968944</td>\n",
       "      <td>5.257781</td>\n",
       "      <td>42.701629</td>\n",
       "      <td>69.266198</td>\n",
       "      <td>10.462676</td>\n",
       "      <td>0.927452</td>\n",
       "      <td>16.634514</td>\n",
       "      <td>2.224930</td>\n",
       "      <td>...</td>\n",
       "      <td>13.992281</td>\n",
       "      <td>-505.503262</td>\n",
       "      <td>11.950531</td>\n",
       "      <td>-501.331529</td>\n",
       "      <td>10.039245</td>\n",
       "      <td>-500.169983</td>\n",
       "      <td>7.984757</td>\n",
       "      <td>-500.582168</td>\n",
       "      <td>13.998353</td>\n",
       "      <td>-599.787184</td>\n",
       "    </tr>\n",
       "    <tr>\n",
       "      <th>2</th>\n",
       "      <td>2016-01-15 02:00:00</td>\n",
       "      <td>6.055926</td>\n",
       "      <td>10.213995</td>\n",
       "      <td>5.383759</td>\n",
       "      <td>42.657501</td>\n",
       "      <td>68.116445</td>\n",
       "      <td>10.507046</td>\n",
       "      <td>0.953716</td>\n",
       "      <td>16.208849</td>\n",
       "      <td>2.257889</td>\n",
       "      <td>...</td>\n",
       "      <td>14.015015</td>\n",
       "      <td>-502.520901</td>\n",
       "      <td>11.912783</td>\n",
       "      <td>-501.133383</td>\n",
       "      <td>10.070913</td>\n",
       "      <td>-500.129135</td>\n",
       "      <td>8.013877</td>\n",
       "      <td>-500.517572</td>\n",
       "      <td>14.028663</td>\n",
       "      <td>-601.427363</td>\n",
       "    </tr>\n",
       "  </tbody>\n",
       "</table>\n",
       "<p>3 rows × 87 columns</p>\n",
       "</div>"
      ],
      "text/plain": [
       "                  date  final.output.concentrate_ag  \\\n",
       "0  2016-01-15 00:00:00                     6.055403   \n",
       "1  2016-01-15 01:00:00                     6.029369   \n",
       "2  2016-01-15 02:00:00                     6.055926   \n",
       "\n",
       "   final.output.concentrate_pb  final.output.concentrate_sol  \\\n",
       "0                     9.889648                      5.507324   \n",
       "1                     9.968944                      5.257781   \n",
       "2                    10.213995                      5.383759   \n",
       "\n",
       "   final.output.concentrate_au  final.output.recovery  final.output.tail_ag  \\\n",
       "0                    42.192020              70.541216             10.411962   \n",
       "1                    42.701629              69.266198             10.462676   \n",
       "2                    42.657501              68.116445             10.507046   \n",
       "\n",
       "   final.output.tail_pb  final.output.tail_sol  final.output.tail_au  ...  \\\n",
       "0              0.895447              16.904297              2.143149  ...   \n",
       "1              0.927452              16.634514              2.224930  ...   \n",
       "2              0.953716              16.208849              2.257889  ...   \n",
       "\n",
       "   secondary_cleaner.state.floatbank4_a_air  \\\n",
       "0                                 14.016835   \n",
       "1                                 13.992281   \n",
       "2                                 14.015015   \n",
       "\n",
       "   secondary_cleaner.state.floatbank4_a_level  \\\n",
       "0                                 -502.488007   \n",
       "1                                 -505.503262   \n",
       "2                                 -502.520901   \n",
       "\n",
       "   secondary_cleaner.state.floatbank4_b_air  \\\n",
       "0                                 12.099931   \n",
       "1                                 11.950531   \n",
       "2                                 11.912783   \n",
       "\n",
       "   secondary_cleaner.state.floatbank4_b_level  \\\n",
       "0                                 -504.715942   \n",
       "1                                 -501.331529   \n",
       "2                                 -501.133383   \n",
       "\n",
       "   secondary_cleaner.state.floatbank5_a_air  \\\n",
       "0                                  9.925633   \n",
       "1                                 10.039245   \n",
       "2                                 10.070913   \n",
       "\n",
       "   secondary_cleaner.state.floatbank5_a_level  \\\n",
       "0                                 -498.310211   \n",
       "1                                 -500.169983   \n",
       "2                                 -500.129135   \n",
       "\n",
       "   secondary_cleaner.state.floatbank5_b_air  \\\n",
       "0                                  8.079666   \n",
       "1                                  7.984757   \n",
       "2                                  8.013877   \n",
       "\n",
       "   secondary_cleaner.state.floatbank5_b_level  \\\n",
       "0                                 -500.470978   \n",
       "1                                 -500.582168   \n",
       "2                                 -500.517572   \n",
       "\n",
       "   secondary_cleaner.state.floatbank6_a_air  \\\n",
       "0                                 14.151341   \n",
       "1                                 13.998353   \n",
       "2                                 14.028663   \n",
       "\n",
       "   secondary_cleaner.state.floatbank6_a_level  \n",
       "0                                 -605.841980  \n",
       "1                                 -599.787184  \n",
       "2                                 -601.427363  \n",
       "\n",
       "[3 rows x 87 columns]"
      ]
     },
     "execution_count": 3,
     "metadata": {},
     "output_type": "execute_result"
    }
   ],
   "source": [
    "df_train.head(3)"
   ]
  },
  {
   "cell_type": "code",
   "execution_count": 4,
   "metadata": {
    "scrolled": true
   },
   "outputs": [
    {
     "name": "stdout",
     "output_type": "stream",
     "text": [
      "<class 'pandas.core.frame.DataFrame'>\n",
      "RangeIndex: 14149 entries, 0 to 14148\n",
      "Data columns (total 87 columns):\n",
      " #   Column                                              Non-Null Count  Dtype  \n",
      "---  ------                                              --------------  -----  \n",
      " 0   date                                                14149 non-null  object \n",
      " 1   final.output.concentrate_ag                         14148 non-null  float64\n",
      " 2   final.output.concentrate_pb                         14148 non-null  float64\n",
      " 3   final.output.concentrate_sol                        13938 non-null  float64\n",
      " 4   final.output.concentrate_au                         14149 non-null  float64\n",
      " 5   final.output.recovery                               14149 non-null  float64\n",
      " 6   final.output.tail_ag                                14149 non-null  float64\n",
      " 7   final.output.tail_pb                                14049 non-null  float64\n",
      " 8   final.output.tail_sol                               14144 non-null  float64\n",
      " 9   final.output.tail_au                                14149 non-null  float64\n",
      " 10  primary_cleaner.input.sulfate                       14129 non-null  float64\n",
      " 11  primary_cleaner.input.depressant                    14117 non-null  float64\n",
      " 12  primary_cleaner.input.feed_size                     14149 non-null  float64\n",
      " 13  primary_cleaner.input.xanthate                      14049 non-null  float64\n",
      " 14  primary_cleaner.output.concentrate_ag               14149 non-null  float64\n",
      " 15  primary_cleaner.output.concentrate_pb               14063 non-null  float64\n",
      " 16  primary_cleaner.output.concentrate_sol              13863 non-null  float64\n",
      " 17  primary_cleaner.output.concentrate_au               14149 non-null  float64\n",
      " 18  primary_cleaner.output.tail_ag                      14148 non-null  float64\n",
      " 19  primary_cleaner.output.tail_pb                      14134 non-null  float64\n",
      " 20  primary_cleaner.output.tail_sol                     14103 non-null  float64\n",
      " 21  primary_cleaner.output.tail_au                      14149 non-null  float64\n",
      " 22  primary_cleaner.state.floatbank8_a_air              14145 non-null  float64\n",
      " 23  primary_cleaner.state.floatbank8_a_level            14148 non-null  float64\n",
      " 24  primary_cleaner.state.floatbank8_b_air              14145 non-null  float64\n",
      " 25  primary_cleaner.state.floatbank8_b_level            14148 non-null  float64\n",
      " 26  primary_cleaner.state.floatbank8_c_air              14147 non-null  float64\n",
      " 27  primary_cleaner.state.floatbank8_c_level            14148 non-null  float64\n",
      " 28  primary_cleaner.state.floatbank8_d_air              14146 non-null  float64\n",
      " 29  primary_cleaner.state.floatbank8_d_level            14148 non-null  float64\n",
      " 30  rougher.calculation.sulfate_to_au_concentrate       14148 non-null  float64\n",
      " 31  rougher.calculation.floatbank10_sulfate_to_au_feed  14148 non-null  float64\n",
      " 32  rougher.calculation.floatbank11_sulfate_to_au_feed  14148 non-null  float64\n",
      " 33  rougher.calculation.au_pb_ratio                     14149 non-null  float64\n",
      " 34  rougher.input.feed_ag                               14149 non-null  float64\n",
      " 35  rougher.input.feed_pb                               14049 non-null  float64\n",
      " 36  rougher.input.feed_rate                             14141 non-null  float64\n",
      " 37  rougher.input.feed_size                             14005 non-null  float64\n",
      " 38  rougher.input.feed_sol                              14071 non-null  float64\n",
      " 39  rougher.input.feed_au                               14149 non-null  float64\n",
      " 40  rougher.input.floatbank10_sulfate                   14120 non-null  float64\n",
      " 41  rougher.input.floatbank10_xanthate                  14141 non-null  float64\n",
      " 42  rougher.input.floatbank11_sulfate                   14113 non-null  float64\n",
      " 43  rougher.input.floatbank11_xanthate                  13721 non-null  float64\n",
      " 44  rougher.output.concentrate_ag                       14149 non-null  float64\n",
      " 45  rougher.output.concentrate_pb                       14149 non-null  float64\n",
      " 46  rougher.output.concentrate_sol                      14127 non-null  float64\n",
      " 47  rougher.output.concentrate_au                       14149 non-null  float64\n",
      " 48  rougher.output.recovery                             14149 non-null  float64\n",
      " 49  rougher.output.tail_ag                              14148 non-null  float64\n",
      " 50  rougher.output.tail_pb                              14149 non-null  float64\n",
      " 51  rougher.output.tail_sol                             14149 non-null  float64\n",
      " 52  rougher.output.tail_au                              14149 non-null  float64\n",
      " 53  rougher.state.floatbank10_a_air                     14148 non-null  float64\n",
      " 54  rougher.state.floatbank10_a_level                   14148 non-null  float64\n",
      " 55  rougher.state.floatbank10_b_air                     14148 non-null  float64\n",
      " 56  rougher.state.floatbank10_b_level                   14148 non-null  float64\n",
      " 57  rougher.state.floatbank10_c_air                     14148 non-null  float64\n",
      " 58  rougher.state.floatbank10_c_level                   14148 non-null  float64\n",
      " 59  rougher.state.floatbank10_d_air                     14149 non-null  float64\n",
      " 60  rougher.state.floatbank10_d_level                   14149 non-null  float64\n",
      " 61  rougher.state.floatbank10_e_air                     13713 non-null  float64\n",
      " 62  rougher.state.floatbank10_e_level                   14149 non-null  float64\n",
      " 63  rougher.state.floatbank10_f_air                     14149 non-null  float64\n",
      " 64  rougher.state.floatbank10_f_level                   14149 non-null  float64\n",
      " 65  secondary_cleaner.output.tail_ag                    14147 non-null  float64\n",
      " 66  secondary_cleaner.output.tail_pb                    14139 non-null  float64\n",
      " 67  secondary_cleaner.output.tail_sol                   12544 non-null  float64\n",
      " 68  secondary_cleaner.output.tail_au                    14149 non-null  float64\n",
      " 69  secondary_cleaner.state.floatbank2_a_air            13932 non-null  float64\n",
      " 70  secondary_cleaner.state.floatbank2_a_level          14148 non-null  float64\n",
      " 71  secondary_cleaner.state.floatbank2_b_air            14128 non-null  float64\n",
      " 72  secondary_cleaner.state.floatbank2_b_level          14148 non-null  float64\n",
      " 73  secondary_cleaner.state.floatbank3_a_air            14145 non-null  float64\n",
      " 74  secondary_cleaner.state.floatbank3_a_level          14148 non-null  float64\n",
      " 75  secondary_cleaner.state.floatbank3_b_air            14148 non-null  float64\n",
      " 76  secondary_cleaner.state.floatbank3_b_level          14148 non-null  float64\n",
      " 77  secondary_cleaner.state.floatbank4_a_air            14143 non-null  float64\n",
      " 78  secondary_cleaner.state.floatbank4_a_level          14148 non-null  float64\n",
      " 79  secondary_cleaner.state.floatbank4_b_air            14148 non-null  float64\n",
      " 80  secondary_cleaner.state.floatbank4_b_level          14148 non-null  float64\n",
      " 81  secondary_cleaner.state.floatbank5_a_air            14148 non-null  float64\n",
      " 82  secondary_cleaner.state.floatbank5_a_level          14148 non-null  float64\n",
      " 83  secondary_cleaner.state.floatbank5_b_air            14148 non-null  float64\n",
      " 84  secondary_cleaner.state.floatbank5_b_level          14148 non-null  float64\n",
      " 85  secondary_cleaner.state.floatbank6_a_air            14147 non-null  float64\n",
      " 86  secondary_cleaner.state.floatbank6_a_level          14148 non-null  float64\n",
      "dtypes: float64(86), object(1)\n",
      "memory usage: 9.4+ MB\n"
     ]
    }
   ],
   "source": [
    "df_train.info()"
   ]
  },
  {
   "cell_type": "code",
   "execution_count": 5,
   "metadata": {
    "scrolled": false
   },
   "outputs": [
    {
     "data": {
      "text/html": [
       "<div>\n",
       "<style scoped>\n",
       "    .dataframe tbody tr th:only-of-type {\n",
       "        vertical-align: middle;\n",
       "    }\n",
       "\n",
       "    .dataframe tbody tr th {\n",
       "        vertical-align: top;\n",
       "    }\n",
       "\n",
       "    .dataframe thead th {\n",
       "        text-align: right;\n",
       "    }\n",
       "</style>\n",
       "<table border=\"1\" class=\"dataframe\">\n",
       "  <thead>\n",
       "    <tr style=\"text-align: right;\">\n",
       "      <th></th>\n",
       "      <th>final.output.concentrate_ag</th>\n",
       "      <th>final.output.concentrate_pb</th>\n",
       "      <th>final.output.concentrate_sol</th>\n",
       "      <th>final.output.concentrate_au</th>\n",
       "      <th>final.output.recovery</th>\n",
       "      <th>final.output.tail_ag</th>\n",
       "      <th>final.output.tail_pb</th>\n",
       "      <th>final.output.tail_sol</th>\n",
       "      <th>final.output.tail_au</th>\n",
       "      <th>primary_cleaner.input.sulfate</th>\n",
       "      <th>...</th>\n",
       "      <th>secondary_cleaner.state.floatbank4_a_air</th>\n",
       "      <th>secondary_cleaner.state.floatbank4_a_level</th>\n",
       "      <th>secondary_cleaner.state.floatbank4_b_air</th>\n",
       "      <th>secondary_cleaner.state.floatbank4_b_level</th>\n",
       "      <th>secondary_cleaner.state.floatbank5_a_air</th>\n",
       "      <th>secondary_cleaner.state.floatbank5_a_level</th>\n",
       "      <th>secondary_cleaner.state.floatbank5_b_air</th>\n",
       "      <th>secondary_cleaner.state.floatbank5_b_level</th>\n",
       "      <th>secondary_cleaner.state.floatbank6_a_air</th>\n",
       "      <th>secondary_cleaner.state.floatbank6_a_level</th>\n",
       "    </tr>\n",
       "  </thead>\n",
       "  <tbody>\n",
       "    <tr>\n",
       "      <th>count</th>\n",
       "      <td>14148.000000</td>\n",
       "      <td>14148.000000</td>\n",
       "      <td>13938.000000</td>\n",
       "      <td>14149.000000</td>\n",
       "      <td>14149.000000</td>\n",
       "      <td>14149.000000</td>\n",
       "      <td>14049.000000</td>\n",
       "      <td>14144.000000</td>\n",
       "      <td>14149.000000</td>\n",
       "      <td>14129.000000</td>\n",
       "      <td>...</td>\n",
       "      <td>14143.000000</td>\n",
       "      <td>14148.000000</td>\n",
       "      <td>14148.000000</td>\n",
       "      <td>14148.000000</td>\n",
       "      <td>14148.000000</td>\n",
       "      <td>14148.000000</td>\n",
       "      <td>14148.000000</td>\n",
       "      <td>14148.000000</td>\n",
       "      <td>14147.000000</td>\n",
       "      <td>14148.000000</td>\n",
       "    </tr>\n",
       "    <tr>\n",
       "      <th>mean</th>\n",
       "      <td>5.142034</td>\n",
       "      <td>10.132960</td>\n",
       "      <td>9.202849</td>\n",
       "      <td>44.003792</td>\n",
       "      <td>66.518832</td>\n",
       "      <td>9.607035</td>\n",
       "      <td>2.597298</td>\n",
       "      <td>10.512122</td>\n",
       "      <td>2.918421</td>\n",
       "      <td>133.320659</td>\n",
       "      <td>...</td>\n",
       "      <td>19.985454</td>\n",
       "      <td>-478.696836</td>\n",
       "      <td>15.487065</td>\n",
       "      <td>-460.229416</td>\n",
       "      <td>16.775136</td>\n",
       "      <td>-483.956022</td>\n",
       "      <td>13.064590</td>\n",
       "      <td>-483.966564</td>\n",
       "      <td>19.577539</td>\n",
       "      <td>-506.798480</td>\n",
       "    </tr>\n",
       "    <tr>\n",
       "      <th>std</th>\n",
       "      <td>1.369586</td>\n",
       "      <td>1.654930</td>\n",
       "      <td>2.790516</td>\n",
       "      <td>4.905261</td>\n",
       "      <td>10.295402</td>\n",
       "      <td>2.319069</td>\n",
       "      <td>0.971843</td>\n",
       "      <td>3.003617</td>\n",
       "      <td>0.903712</td>\n",
       "      <td>39.431659</td>\n",
       "      <td>...</td>\n",
       "      <td>5.657723</td>\n",
       "      <td>50.736021</td>\n",
       "      <td>5.255655</td>\n",
       "      <td>58.843586</td>\n",
       "      <td>5.831906</td>\n",
       "      <td>37.892788</td>\n",
       "      <td>5.765617</td>\n",
       "      <td>39.207913</td>\n",
       "      <td>5.764417</td>\n",
       "      <td>37.079249</td>\n",
       "    </tr>\n",
       "    <tr>\n",
       "      <th>min</th>\n",
       "      <td>0.000000</td>\n",
       "      <td>0.000000</td>\n",
       "      <td>0.000000</td>\n",
       "      <td>0.000000</td>\n",
       "      <td>0.000000</td>\n",
       "      <td>0.000000</td>\n",
       "      <td>0.000000</td>\n",
       "      <td>0.000000</td>\n",
       "      <td>0.000000</td>\n",
       "      <td>0.003112</td>\n",
       "      <td>...</td>\n",
       "      <td>0.000000</td>\n",
       "      <td>-799.709069</td>\n",
       "      <td>0.000000</td>\n",
       "      <td>-799.889113</td>\n",
       "      <td>-0.372054</td>\n",
       "      <td>-797.142475</td>\n",
       "      <td>0.646208</td>\n",
       "      <td>-800.006180</td>\n",
       "      <td>0.195324</td>\n",
       "      <td>-809.398668</td>\n",
       "    </tr>\n",
       "    <tr>\n",
       "      <th>25%</th>\n",
       "      <td>4.211620</td>\n",
       "      <td>9.297355</td>\n",
       "      <td>7.484645</td>\n",
       "      <td>43.276111</td>\n",
       "      <td>62.545817</td>\n",
       "      <td>7.997429</td>\n",
       "      <td>1.905973</td>\n",
       "      <td>8.811324</td>\n",
       "      <td>2.368607</td>\n",
       "      <td>107.006651</td>\n",
       "      <td>...</td>\n",
       "      <td>14.990775</td>\n",
       "      <td>-500.628656</td>\n",
       "      <td>11.894558</td>\n",
       "      <td>-500.149000</td>\n",
       "      <td>11.083980</td>\n",
       "      <td>-500.363177</td>\n",
       "      <td>8.994405</td>\n",
       "      <td>-500.105994</td>\n",
       "      <td>14.989304</td>\n",
       "      <td>-500.745104</td>\n",
       "    </tr>\n",
       "    <tr>\n",
       "      <th>50%</th>\n",
       "      <td>4.994652</td>\n",
       "      <td>10.297144</td>\n",
       "      <td>8.845462</td>\n",
       "      <td>44.872436</td>\n",
       "      <td>67.432775</td>\n",
       "      <td>9.480270</td>\n",
       "      <td>2.592022</td>\n",
       "      <td>10.514621</td>\n",
       "      <td>2.851025</td>\n",
       "      <td>133.018328</td>\n",
       "      <td>...</td>\n",
       "      <td>20.001789</td>\n",
       "      <td>-499.681450</td>\n",
       "      <td>14.975536</td>\n",
       "      <td>-499.388738</td>\n",
       "      <td>17.932223</td>\n",
       "      <td>-499.702452</td>\n",
       "      <td>11.997547</td>\n",
       "      <td>-499.914556</td>\n",
       "      <td>19.984175</td>\n",
       "      <td>-500.061431</td>\n",
       "    </tr>\n",
       "    <tr>\n",
       "      <th>75%</th>\n",
       "      <td>5.859540</td>\n",
       "      <td>11.170603</td>\n",
       "      <td>10.487508</td>\n",
       "      <td>46.166425</td>\n",
       "      <td>72.346428</td>\n",
       "      <td>11.003707</td>\n",
       "      <td>3.241723</td>\n",
       "      <td>11.933009</td>\n",
       "      <td>3.434764</td>\n",
       "      <td>159.825396</td>\n",
       "      <td>...</td>\n",
       "      <td>24.990826</td>\n",
       "      <td>-477.472413</td>\n",
       "      <td>20.059375</td>\n",
       "      <td>-400.039008</td>\n",
       "      <td>21.346550</td>\n",
       "      <td>-487.712108</td>\n",
       "      <td>17.982903</td>\n",
       "      <td>-453.186936</td>\n",
       "      <td>24.991623</td>\n",
       "      <td>-499.536466</td>\n",
       "    </tr>\n",
       "    <tr>\n",
       "      <th>max</th>\n",
       "      <td>16.001945</td>\n",
       "      <td>17.031899</td>\n",
       "      <td>18.124851</td>\n",
       "      <td>52.756638</td>\n",
       "      <td>100.000000</td>\n",
       "      <td>19.552149</td>\n",
       "      <td>5.639565</td>\n",
       "      <td>22.317730</td>\n",
       "      <td>8.197408</td>\n",
       "      <td>250.127834</td>\n",
       "      <td>...</td>\n",
       "      <td>30.115735</td>\n",
       "      <td>-245.239184</td>\n",
       "      <td>24.007913</td>\n",
       "      <td>-145.071088</td>\n",
       "      <td>43.709931</td>\n",
       "      <td>-275.073125</td>\n",
       "      <td>27.926001</td>\n",
       "      <td>-157.396071</td>\n",
       "      <td>32.188906</td>\n",
       "      <td>-104.427459</td>\n",
       "    </tr>\n",
       "  </tbody>\n",
       "</table>\n",
       "<p>8 rows × 86 columns</p>\n",
       "</div>"
      ],
      "text/plain": [
       "       final.output.concentrate_ag  final.output.concentrate_pb  \\\n",
       "count                 14148.000000                 14148.000000   \n",
       "mean                      5.142034                    10.132960   \n",
       "std                       1.369586                     1.654930   \n",
       "min                       0.000000                     0.000000   \n",
       "25%                       4.211620                     9.297355   \n",
       "50%                       4.994652                    10.297144   \n",
       "75%                       5.859540                    11.170603   \n",
       "max                      16.001945                    17.031899   \n",
       "\n",
       "       final.output.concentrate_sol  final.output.concentrate_au  \\\n",
       "count                  13938.000000                 14149.000000   \n",
       "mean                       9.202849                    44.003792   \n",
       "std                        2.790516                     4.905261   \n",
       "min                        0.000000                     0.000000   \n",
       "25%                        7.484645                    43.276111   \n",
       "50%                        8.845462                    44.872436   \n",
       "75%                       10.487508                    46.166425   \n",
       "max                       18.124851                    52.756638   \n",
       "\n",
       "       final.output.recovery  final.output.tail_ag  final.output.tail_pb  \\\n",
       "count           14149.000000          14149.000000          14049.000000   \n",
       "mean               66.518832              9.607035              2.597298   \n",
       "std                10.295402              2.319069              0.971843   \n",
       "min                 0.000000              0.000000              0.000000   \n",
       "25%                62.545817              7.997429              1.905973   \n",
       "50%                67.432775              9.480270              2.592022   \n",
       "75%                72.346428             11.003707              3.241723   \n",
       "max               100.000000             19.552149              5.639565   \n",
       "\n",
       "       final.output.tail_sol  final.output.tail_au  \\\n",
       "count           14144.000000          14149.000000   \n",
       "mean               10.512122              2.918421   \n",
       "std                 3.003617              0.903712   \n",
       "min                 0.000000              0.000000   \n",
       "25%                 8.811324              2.368607   \n",
       "50%                10.514621              2.851025   \n",
       "75%                11.933009              3.434764   \n",
       "max                22.317730              8.197408   \n",
       "\n",
       "       primary_cleaner.input.sulfate  ...  \\\n",
       "count                   14129.000000  ...   \n",
       "mean                      133.320659  ...   \n",
       "std                        39.431659  ...   \n",
       "min                         0.003112  ...   \n",
       "25%                       107.006651  ...   \n",
       "50%                       133.018328  ...   \n",
       "75%                       159.825396  ...   \n",
       "max                       250.127834  ...   \n",
       "\n",
       "       secondary_cleaner.state.floatbank4_a_air  \\\n",
       "count                              14143.000000   \n",
       "mean                                  19.985454   \n",
       "std                                    5.657723   \n",
       "min                                    0.000000   \n",
       "25%                                   14.990775   \n",
       "50%                                   20.001789   \n",
       "75%                                   24.990826   \n",
       "max                                   30.115735   \n",
       "\n",
       "       secondary_cleaner.state.floatbank4_a_level  \\\n",
       "count                                14148.000000   \n",
       "mean                                  -478.696836   \n",
       "std                                     50.736021   \n",
       "min                                   -799.709069   \n",
       "25%                                   -500.628656   \n",
       "50%                                   -499.681450   \n",
       "75%                                   -477.472413   \n",
       "max                                   -245.239184   \n",
       "\n",
       "       secondary_cleaner.state.floatbank4_b_air  \\\n",
       "count                              14148.000000   \n",
       "mean                                  15.487065   \n",
       "std                                    5.255655   \n",
       "min                                    0.000000   \n",
       "25%                                   11.894558   \n",
       "50%                                   14.975536   \n",
       "75%                                   20.059375   \n",
       "max                                   24.007913   \n",
       "\n",
       "       secondary_cleaner.state.floatbank4_b_level  \\\n",
       "count                                14148.000000   \n",
       "mean                                  -460.229416   \n",
       "std                                     58.843586   \n",
       "min                                   -799.889113   \n",
       "25%                                   -500.149000   \n",
       "50%                                   -499.388738   \n",
       "75%                                   -400.039008   \n",
       "max                                   -145.071088   \n",
       "\n",
       "       secondary_cleaner.state.floatbank5_a_air  \\\n",
       "count                              14148.000000   \n",
       "mean                                  16.775136   \n",
       "std                                    5.831906   \n",
       "min                                   -0.372054   \n",
       "25%                                   11.083980   \n",
       "50%                                   17.932223   \n",
       "75%                                   21.346550   \n",
       "max                                   43.709931   \n",
       "\n",
       "       secondary_cleaner.state.floatbank5_a_level  \\\n",
       "count                                14148.000000   \n",
       "mean                                  -483.956022   \n",
       "std                                     37.892788   \n",
       "min                                   -797.142475   \n",
       "25%                                   -500.363177   \n",
       "50%                                   -499.702452   \n",
       "75%                                   -487.712108   \n",
       "max                                   -275.073125   \n",
       "\n",
       "       secondary_cleaner.state.floatbank5_b_air  \\\n",
       "count                              14148.000000   \n",
       "mean                                  13.064590   \n",
       "std                                    5.765617   \n",
       "min                                    0.646208   \n",
       "25%                                    8.994405   \n",
       "50%                                   11.997547   \n",
       "75%                                   17.982903   \n",
       "max                                   27.926001   \n",
       "\n",
       "       secondary_cleaner.state.floatbank5_b_level  \\\n",
       "count                                14148.000000   \n",
       "mean                                  -483.966564   \n",
       "std                                     39.207913   \n",
       "min                                   -800.006180   \n",
       "25%                                   -500.105994   \n",
       "50%                                   -499.914556   \n",
       "75%                                   -453.186936   \n",
       "max                                   -157.396071   \n",
       "\n",
       "       secondary_cleaner.state.floatbank6_a_air  \\\n",
       "count                              14147.000000   \n",
       "mean                                  19.577539   \n",
       "std                                    5.764417   \n",
       "min                                    0.195324   \n",
       "25%                                   14.989304   \n",
       "50%                                   19.984175   \n",
       "75%                                   24.991623   \n",
       "max                                   32.188906   \n",
       "\n",
       "       secondary_cleaner.state.floatbank6_a_level  \n",
       "count                                14148.000000  \n",
       "mean                                  -506.798480  \n",
       "std                                     37.079249  \n",
       "min                                   -809.398668  \n",
       "25%                                   -500.745104  \n",
       "50%                                   -500.061431  \n",
       "75%                                   -499.536466  \n",
       "max                                   -104.427459  \n",
       "\n",
       "[8 rows x 86 columns]"
      ]
     },
     "execution_count": 5,
     "metadata": {},
     "output_type": "execute_result"
    }
   ],
   "source": [
    "df_train.describe()"
   ]
  },
  {
   "cell_type": "markdown",
   "metadata": {},
   "source": [
    "### Проверим формулу эффективности обогащения на обучающей выборке для признака rougher.output.recovery. Найдём MAE."
   ]
  },
  {
   "cell_type": "markdown",
   "metadata": {},
   "source": [
    "Напишем формулу обогащения в соответствии с задание и сравним через абсолютное отклоние MAE корректность расчёта в соответствии с формулой."
   ]
  },
  {
   "cell_type": "code",
   "execution_count": 6,
   "metadata": {
    "scrolled": true
   },
   "outputs": [],
   "source": [
    "recovery_calculation = (\n",
    "    df_train['rougher.output.concentrate_au']*(\n",
    "        df_train['rougher.input.feed_au']-df_train['rougher.output.tail_au']\n",
    "    )\n",
    ")/(\n",
    "    df_train['rougher.input.feed_au']*(\n",
    "        df_train['rougher.output.concentrate_au']-df_train['rougher.output.tail_au']\n",
    "                                      )\n",
    ")*100\n",
    "\n",
    "recovery_rougher = df_train['rougher.output.recovery']"
   ]
  },
  {
   "cell_type": "code",
   "execution_count": 7,
   "metadata": {
    "scrolled": true
   },
   "outputs": [
    {
     "name": "stdout",
     "output_type": "stream",
     "text": [
      "MAE: 9.73512347450521e-15\n"
     ]
    }
   ],
   "source": [
    "print('MAE:', mean_absolute_error(recovery_rougher, recovery_calculation))"
   ]
  },
  {
   "cell_type": "markdown",
   "metadata": {},
   "source": [
    "Как видим отклонение минимально и формула работает предельно корректно"
   ]
  },
  {
   "cell_type": "markdown",
   "metadata": {},
   "source": [
    "### Проанализируем отличие признаков в тестовой и обучающей выборках."
   ]
  },
  {
   "cell_type": "markdown",
   "metadata": {},
   "source": [
    "Загрузим основную информацию о тестовом датасете:"
   ]
  },
  {
   "cell_type": "code",
   "execution_count": 8,
   "metadata": {
    "scrolled": false
   },
   "outputs": [
    {
     "name": "stdout",
     "output_type": "stream",
     "text": [
      "<class 'pandas.core.frame.DataFrame'>\n",
      "RangeIndex: 5290 entries, 0 to 5289\n",
      "Data columns (total 53 columns):\n",
      " #   Column                                      Non-Null Count  Dtype  \n",
      "---  ------                                      --------------  -----  \n",
      " 0   date                                        5290 non-null   object \n",
      " 1   primary_cleaner.input.sulfate               5286 non-null   float64\n",
      " 2   primary_cleaner.input.depressant            5285 non-null   float64\n",
      " 3   primary_cleaner.input.feed_size             5290 non-null   float64\n",
      " 4   primary_cleaner.input.xanthate              5286 non-null   float64\n",
      " 5   primary_cleaner.state.floatbank8_a_air      5290 non-null   float64\n",
      " 6   primary_cleaner.state.floatbank8_a_level    5290 non-null   float64\n",
      " 7   primary_cleaner.state.floatbank8_b_air      5290 non-null   float64\n",
      " 8   primary_cleaner.state.floatbank8_b_level    5290 non-null   float64\n",
      " 9   primary_cleaner.state.floatbank8_c_air      5290 non-null   float64\n",
      " 10  primary_cleaner.state.floatbank8_c_level    5290 non-null   float64\n",
      " 11  primary_cleaner.state.floatbank8_d_air      5290 non-null   float64\n",
      " 12  primary_cleaner.state.floatbank8_d_level    5290 non-null   float64\n",
      " 13  rougher.input.feed_ag                       5290 non-null   float64\n",
      " 14  rougher.input.feed_pb                       5290 non-null   float64\n",
      " 15  rougher.input.feed_rate                     5287 non-null   float64\n",
      " 16  rougher.input.feed_size                     5289 non-null   float64\n",
      " 17  rougher.input.feed_sol                      5269 non-null   float64\n",
      " 18  rougher.input.feed_au                       5290 non-null   float64\n",
      " 19  rougher.input.floatbank10_sulfate           5285 non-null   float64\n",
      " 20  rougher.input.floatbank10_xanthate          5290 non-null   float64\n",
      " 21  rougher.input.floatbank11_sulfate           5282 non-null   float64\n",
      " 22  rougher.input.floatbank11_xanthate          5265 non-null   float64\n",
      " 23  rougher.state.floatbank10_a_air             5290 non-null   float64\n",
      " 24  rougher.state.floatbank10_a_level           5290 non-null   float64\n",
      " 25  rougher.state.floatbank10_b_air             5290 non-null   float64\n",
      " 26  rougher.state.floatbank10_b_level           5290 non-null   float64\n",
      " 27  rougher.state.floatbank10_c_air             5290 non-null   float64\n",
      " 28  rougher.state.floatbank10_c_level           5290 non-null   float64\n",
      " 29  rougher.state.floatbank10_d_air             5290 non-null   float64\n",
      " 30  rougher.state.floatbank10_d_level           5290 non-null   float64\n",
      " 31  rougher.state.floatbank10_e_air             5290 non-null   float64\n",
      " 32  rougher.state.floatbank10_e_level           5290 non-null   float64\n",
      " 33  rougher.state.floatbank10_f_air             5290 non-null   float64\n",
      " 34  rougher.state.floatbank10_f_level           5290 non-null   float64\n",
      " 35  secondary_cleaner.state.floatbank2_a_air    5287 non-null   float64\n",
      " 36  secondary_cleaner.state.floatbank2_a_level  5290 non-null   float64\n",
      " 37  secondary_cleaner.state.floatbank2_b_air    5288 non-null   float64\n",
      " 38  secondary_cleaner.state.floatbank2_b_level  5290 non-null   float64\n",
      " 39  secondary_cleaner.state.floatbank3_a_air    5281 non-null   float64\n",
      " 40  secondary_cleaner.state.floatbank3_a_level  5290 non-null   float64\n",
      " 41  secondary_cleaner.state.floatbank3_b_air    5290 non-null   float64\n",
      " 42  secondary_cleaner.state.floatbank3_b_level  5290 non-null   float64\n",
      " 43  secondary_cleaner.state.floatbank4_a_air    5290 non-null   float64\n",
      " 44  secondary_cleaner.state.floatbank4_a_level  5290 non-null   float64\n",
      " 45  secondary_cleaner.state.floatbank4_b_air    5290 non-null   float64\n",
      " 46  secondary_cleaner.state.floatbank4_b_level  5290 non-null   float64\n",
      " 47  secondary_cleaner.state.floatbank5_a_air    5290 non-null   float64\n",
      " 48  secondary_cleaner.state.floatbank5_a_level  5290 non-null   float64\n",
      " 49  secondary_cleaner.state.floatbank5_b_air    5290 non-null   float64\n",
      " 50  secondary_cleaner.state.floatbank5_b_level  5290 non-null   float64\n",
      " 51  secondary_cleaner.state.floatbank6_a_air    5290 non-null   float64\n",
      " 52  secondary_cleaner.state.floatbank6_a_level  5290 non-null   float64\n",
      "dtypes: float64(52), object(1)\n",
      "memory usage: 2.1+ MB\n"
     ]
    }
   ],
   "source": [
    "df_test.info()"
   ]
  },
  {
   "cell_type": "markdown",
   "metadata": {},
   "source": [
    "Проверим отличия в столбцах в обучающем и тестовом датасетах"
   ]
  },
  {
   "cell_type": "code",
   "execution_count": 55,
   "metadata": {},
   "outputs": [
    {
     "data": {
      "text/plain": [
       "{'final.output.concentrate_ag',\n",
       " 'final.output.concentrate_au',\n",
       " 'final.output.concentrate_pb',\n",
       " 'final.output.concentrate_sol',\n",
       " 'final.output.recovery',\n",
       " 'final.output.tail_ag',\n",
       " 'final.output.tail_au',\n",
       " 'final.output.tail_pb',\n",
       " 'final.output.tail_sol',\n",
       " 'primary_cleaner.output.concentrate_ag',\n",
       " 'primary_cleaner.output.concentrate_au',\n",
       " 'primary_cleaner.output.concentrate_pb',\n",
       " 'primary_cleaner.output.concentrate_sol',\n",
       " 'primary_cleaner.output.tail_ag',\n",
       " 'primary_cleaner.output.tail_au',\n",
       " 'primary_cleaner.output.tail_pb',\n",
       " 'primary_cleaner.output.tail_sol',\n",
       " 'rougher.calculation.au_pb_ratio',\n",
       " 'rougher.calculation.floatbank10_sulfate_to_au_feed',\n",
       " 'rougher.calculation.floatbank11_sulfate_to_au_feed',\n",
       " 'rougher.calculation.sulfate_to_au_concentrate',\n",
       " 'rougher.output.concentrate_ag',\n",
       " 'rougher.output.concentrate_au',\n",
       " 'rougher.output.concentrate_pb',\n",
       " 'rougher.output.concentrate_sol',\n",
       " 'rougher.output.recovery',\n",
       " 'rougher.output.tail_ag',\n",
       " 'rougher.output.tail_au',\n",
       " 'rougher.output.tail_pb',\n",
       " 'rougher.output.tail_sol',\n",
       " 'secondary_cleaner.output.tail_ag',\n",
       " 'secondary_cleaner.output.tail_au',\n",
       " 'secondary_cleaner.output.tail_pb',\n",
       " 'secondary_cleaner.output.tail_sol',\n",
       " 'sum_final_output',\n",
       " 'sum_rougher_input',\n",
       " 'sum_rougher_output'}"
      ]
     },
     "execution_count": 55,
     "metadata": {},
     "output_type": "execute_result"
    }
   ],
   "source": [
    "set(df_train.columns)-set(df_test.columns)"
   ]
  },
  {
   "cell_type": "markdown",
   "metadata": {},
   "source": [
    "Как мы видим, сравнивая основную информацию в тестовом датасете отсутствуют промежуточные данные подэтапов производства, итоговые результаты финального концентрата находящегося в крайней точке технологического процесса, а также целевые признаки.\n",
    "Стоит это обратить внимание и привести к единому набору признаков и целевых признаков к моменту написания моделей обучения."
   ]
  },
  {
   "cell_type": "code",
   "execution_count": 9,
   "metadata": {
    "scrolled": true
   },
   "outputs": [
    {
     "data": {
      "text/html": [
       "<div>\n",
       "<style scoped>\n",
       "    .dataframe tbody tr th:only-of-type {\n",
       "        vertical-align: middle;\n",
       "    }\n",
       "\n",
       "    .dataframe tbody tr th {\n",
       "        vertical-align: top;\n",
       "    }\n",
       "\n",
       "    .dataframe thead th {\n",
       "        text-align: right;\n",
       "    }\n",
       "</style>\n",
       "<table border=\"1\" class=\"dataframe\">\n",
       "  <thead>\n",
       "    <tr style=\"text-align: right;\">\n",
       "      <th></th>\n",
       "      <th>primary_cleaner.input.sulfate</th>\n",
       "      <th>primary_cleaner.input.depressant</th>\n",
       "      <th>primary_cleaner.input.feed_size</th>\n",
       "      <th>primary_cleaner.input.xanthate</th>\n",
       "      <th>primary_cleaner.state.floatbank8_a_air</th>\n",
       "      <th>primary_cleaner.state.floatbank8_a_level</th>\n",
       "      <th>primary_cleaner.state.floatbank8_b_air</th>\n",
       "      <th>primary_cleaner.state.floatbank8_b_level</th>\n",
       "      <th>primary_cleaner.state.floatbank8_c_air</th>\n",
       "      <th>primary_cleaner.state.floatbank8_c_level</th>\n",
       "      <th>...</th>\n",
       "      <th>secondary_cleaner.state.floatbank4_a_air</th>\n",
       "      <th>secondary_cleaner.state.floatbank4_a_level</th>\n",
       "      <th>secondary_cleaner.state.floatbank4_b_air</th>\n",
       "      <th>secondary_cleaner.state.floatbank4_b_level</th>\n",
       "      <th>secondary_cleaner.state.floatbank5_a_air</th>\n",
       "      <th>secondary_cleaner.state.floatbank5_a_level</th>\n",
       "      <th>secondary_cleaner.state.floatbank5_b_air</th>\n",
       "      <th>secondary_cleaner.state.floatbank5_b_level</th>\n",
       "      <th>secondary_cleaner.state.floatbank6_a_air</th>\n",
       "      <th>secondary_cleaner.state.floatbank6_a_level</th>\n",
       "    </tr>\n",
       "  </thead>\n",
       "  <tbody>\n",
       "    <tr>\n",
       "      <th>count</th>\n",
       "      <td>5286.000000</td>\n",
       "      <td>5285.000000</td>\n",
       "      <td>5290.000000</td>\n",
       "      <td>5286.000000</td>\n",
       "      <td>5.290000e+03</td>\n",
       "      <td>5290.000000</td>\n",
       "      <td>5.290000e+03</td>\n",
       "      <td>5290.000000</td>\n",
       "      <td>5.290000e+03</td>\n",
       "      <td>5290.000000</td>\n",
       "      <td>...</td>\n",
       "      <td>5.290000e+03</td>\n",
       "      <td>5290.000000</td>\n",
       "      <td>5.290000e+03</td>\n",
       "      <td>5290.000000</td>\n",
       "      <td>5290.000000</td>\n",
       "      <td>5290.000000</td>\n",
       "      <td>5290.000000</td>\n",
       "      <td>5290.000000</td>\n",
       "      <td>5290.000000</td>\n",
       "      <td>5290.000000</td>\n",
       "    </tr>\n",
       "    <tr>\n",
       "      <th>mean</th>\n",
       "      <td>174.839652</td>\n",
       "      <td>8.683596</td>\n",
       "      <td>7.266339</td>\n",
       "      <td>1.383803</td>\n",
       "      <td>1.539494e+03</td>\n",
       "      <td>-497.665883</td>\n",
       "      <td>1.545174e+03</td>\n",
       "      <td>-500.273098</td>\n",
       "      <td>1.527272e+03</td>\n",
       "      <td>-498.330680</td>\n",
       "      <td>...</td>\n",
       "      <td>1.632007e+01</td>\n",
       "      <td>-505.144570</td>\n",
       "      <td>1.373544e+01</td>\n",
       "      <td>-463.349858</td>\n",
       "      <td>12.804186</td>\n",
       "      <td>-501.329122</td>\n",
       "      <td>9.881145</td>\n",
       "      <td>-495.663398</td>\n",
       "      <td>17.304935</td>\n",
       "      <td>-501.793193</td>\n",
       "    </tr>\n",
       "    <tr>\n",
       "      <th>std</th>\n",
       "      <td>43.027080</td>\n",
       "      <td>3.072050</td>\n",
       "      <td>0.610219</td>\n",
       "      <td>0.643474</td>\n",
       "      <td>1.167979e+02</td>\n",
       "      <td>19.952431</td>\n",
       "      <td>1.222246e+02</td>\n",
       "      <td>32.968307</td>\n",
       "      <td>1.225380e+02</td>\n",
       "      <td>21.964876</td>\n",
       "      <td>...</td>\n",
       "      <td>3.493583e+00</td>\n",
       "      <td>31.427337</td>\n",
       "      <td>3.430484e+00</td>\n",
       "      <td>86.189107</td>\n",
       "      <td>3.026591</td>\n",
       "      <td>17.951495</td>\n",
       "      <td>2.868205</td>\n",
       "      <td>34.535007</td>\n",
       "      <td>4.536544</td>\n",
       "      <td>39.044215</td>\n",
       "    </tr>\n",
       "    <tr>\n",
       "      <th>min</th>\n",
       "      <td>2.566156</td>\n",
       "      <td>0.003839</td>\n",
       "      <td>5.650000</td>\n",
       "      <td>0.004984</td>\n",
       "      <td>5.445860e-32</td>\n",
       "      <td>-795.316337</td>\n",
       "      <td>6.647490e-32</td>\n",
       "      <td>-799.997015</td>\n",
       "      <td>4.033736e-32</td>\n",
       "      <td>-799.960571</td>\n",
       "      <td>...</td>\n",
       "      <td>1.079872e-16</td>\n",
       "      <td>-799.798523</td>\n",
       "      <td>2.489718e-17</td>\n",
       "      <td>-800.836914</td>\n",
       "      <td>0.069227</td>\n",
       "      <td>-797.323986</td>\n",
       "      <td>0.528083</td>\n",
       "      <td>-800.220337</td>\n",
       "      <td>-0.079426</td>\n",
       "      <td>-809.741464</td>\n",
       "    </tr>\n",
       "    <tr>\n",
       "      <th>25%</th>\n",
       "      <td>147.121401</td>\n",
       "      <td>6.489555</td>\n",
       "      <td>6.890000</td>\n",
       "      <td>0.907623</td>\n",
       "      <td>1.498936e+03</td>\n",
       "      <td>-500.357298</td>\n",
       "      <td>1.498971e+03</td>\n",
       "      <td>-500.703002</td>\n",
       "      <td>1.473230e+03</td>\n",
       "      <td>-501.018117</td>\n",
       "      <td>...</td>\n",
       "      <td>1.403618e+01</td>\n",
       "      <td>-500.868258</td>\n",
       "      <td>1.202862e+01</td>\n",
       "      <td>-500.323028</td>\n",
       "      <td>10.914838</td>\n",
       "      <td>-500.726841</td>\n",
       "      <td>8.036719</td>\n",
       "      <td>-500.194668</td>\n",
       "      <td>13.997317</td>\n",
       "      <td>-500.690984</td>\n",
       "    </tr>\n",
       "    <tr>\n",
       "      <th>50%</th>\n",
       "      <td>177.828489</td>\n",
       "      <td>8.052207</td>\n",
       "      <td>7.250000</td>\n",
       "      <td>1.197610</td>\n",
       "      <td>1.585129e+03</td>\n",
       "      <td>-499.969164</td>\n",
       "      <td>1.595622e+03</td>\n",
       "      <td>-500.028514</td>\n",
       "      <td>1.549595e+03</td>\n",
       "      <td>-500.017711</td>\n",
       "      <td>...</td>\n",
       "      <td>1.700847e+01</td>\n",
       "      <td>-500.115727</td>\n",
       "      <td>1.496486e+01</td>\n",
       "      <td>-499.576513</td>\n",
       "      <td>12.954182</td>\n",
       "      <td>-499.990332</td>\n",
       "      <td>10.004301</td>\n",
       "      <td>-499.990535</td>\n",
       "      <td>16.014935</td>\n",
       "      <td>-500.007126</td>\n",
       "    </tr>\n",
       "    <tr>\n",
       "      <th>75%</th>\n",
       "      <td>208.125438</td>\n",
       "      <td>10.027764</td>\n",
       "      <td>7.600000</td>\n",
       "      <td>1.797819</td>\n",
       "      <td>1.602077e+03</td>\n",
       "      <td>-499.568951</td>\n",
       "      <td>1.602324e+03</td>\n",
       "      <td>-499.293257</td>\n",
       "      <td>1.601144e+03</td>\n",
       "      <td>-498.994130</td>\n",
       "      <td>...</td>\n",
       "      <td>1.803862e+01</td>\n",
       "      <td>-499.404224</td>\n",
       "      <td>1.596213e+01</td>\n",
       "      <td>-400.933805</td>\n",
       "      <td>15.097528</td>\n",
       "      <td>-499.283191</td>\n",
       "      <td>11.997467</td>\n",
       "      <td>-499.719913</td>\n",
       "      <td>21.020013</td>\n",
       "      <td>-499.373018</td>\n",
       "    </tr>\n",
       "    <tr>\n",
       "      <th>max</th>\n",
       "      <td>265.983123</td>\n",
       "      <td>40.000000</td>\n",
       "      <td>15.500000</td>\n",
       "      <td>4.102454</td>\n",
       "      <td>2.103104e+03</td>\n",
       "      <td>-57.195404</td>\n",
       "      <td>1.813084e+03</td>\n",
       "      <td>-142.527229</td>\n",
       "      <td>1.715054e+03</td>\n",
       "      <td>-150.937035</td>\n",
       "      <td>...</td>\n",
       "      <td>3.005180e+01</td>\n",
       "      <td>-401.565212</td>\n",
       "      <td>3.126971e+01</td>\n",
       "      <td>-6.506986</td>\n",
       "      <td>25.258848</td>\n",
       "      <td>-244.483566</td>\n",
       "      <td>14.086866</td>\n",
       "      <td>-137.740004</td>\n",
       "      <td>26.705889</td>\n",
       "      <td>-123.307487</td>\n",
       "    </tr>\n",
       "  </tbody>\n",
       "</table>\n",
       "<p>8 rows × 52 columns</p>\n",
       "</div>"
      ],
      "text/plain": [
       "       primary_cleaner.input.sulfate  primary_cleaner.input.depressant  \\\n",
       "count                    5286.000000                       5285.000000   \n",
       "mean                      174.839652                          8.683596   \n",
       "std                        43.027080                          3.072050   \n",
       "min                         2.566156                          0.003839   \n",
       "25%                       147.121401                          6.489555   \n",
       "50%                       177.828489                          8.052207   \n",
       "75%                       208.125438                         10.027764   \n",
       "max                       265.983123                         40.000000   \n",
       "\n",
       "       primary_cleaner.input.feed_size  primary_cleaner.input.xanthate  \\\n",
       "count                      5290.000000                     5286.000000   \n",
       "mean                          7.266339                        1.383803   \n",
       "std                           0.610219                        0.643474   \n",
       "min                           5.650000                        0.004984   \n",
       "25%                           6.890000                        0.907623   \n",
       "50%                           7.250000                        1.197610   \n",
       "75%                           7.600000                        1.797819   \n",
       "max                          15.500000                        4.102454   \n",
       "\n",
       "       primary_cleaner.state.floatbank8_a_air  \\\n",
       "count                            5.290000e+03   \n",
       "mean                             1.539494e+03   \n",
       "std                              1.167979e+02   \n",
       "min                              5.445860e-32   \n",
       "25%                              1.498936e+03   \n",
       "50%                              1.585129e+03   \n",
       "75%                              1.602077e+03   \n",
       "max                              2.103104e+03   \n",
       "\n",
       "       primary_cleaner.state.floatbank8_a_level  \\\n",
       "count                               5290.000000   \n",
       "mean                                -497.665883   \n",
       "std                                   19.952431   \n",
       "min                                 -795.316337   \n",
       "25%                                 -500.357298   \n",
       "50%                                 -499.969164   \n",
       "75%                                 -499.568951   \n",
       "max                                  -57.195404   \n",
       "\n",
       "       primary_cleaner.state.floatbank8_b_air  \\\n",
       "count                            5.290000e+03   \n",
       "mean                             1.545174e+03   \n",
       "std                              1.222246e+02   \n",
       "min                              6.647490e-32   \n",
       "25%                              1.498971e+03   \n",
       "50%                              1.595622e+03   \n",
       "75%                              1.602324e+03   \n",
       "max                              1.813084e+03   \n",
       "\n",
       "       primary_cleaner.state.floatbank8_b_level  \\\n",
       "count                               5290.000000   \n",
       "mean                                -500.273098   \n",
       "std                                   32.968307   \n",
       "min                                 -799.997015   \n",
       "25%                                 -500.703002   \n",
       "50%                                 -500.028514   \n",
       "75%                                 -499.293257   \n",
       "max                                 -142.527229   \n",
       "\n",
       "       primary_cleaner.state.floatbank8_c_air  \\\n",
       "count                            5.290000e+03   \n",
       "mean                             1.527272e+03   \n",
       "std                              1.225380e+02   \n",
       "min                              4.033736e-32   \n",
       "25%                              1.473230e+03   \n",
       "50%                              1.549595e+03   \n",
       "75%                              1.601144e+03   \n",
       "max                              1.715054e+03   \n",
       "\n",
       "       primary_cleaner.state.floatbank8_c_level  ...  \\\n",
       "count                               5290.000000  ...   \n",
       "mean                                -498.330680  ...   \n",
       "std                                   21.964876  ...   \n",
       "min                                 -799.960571  ...   \n",
       "25%                                 -501.018117  ...   \n",
       "50%                                 -500.017711  ...   \n",
       "75%                                 -498.994130  ...   \n",
       "max                                 -150.937035  ...   \n",
       "\n",
       "       secondary_cleaner.state.floatbank4_a_air  \\\n",
       "count                              5.290000e+03   \n",
       "mean                               1.632007e+01   \n",
       "std                                3.493583e+00   \n",
       "min                                1.079872e-16   \n",
       "25%                                1.403618e+01   \n",
       "50%                                1.700847e+01   \n",
       "75%                                1.803862e+01   \n",
       "max                                3.005180e+01   \n",
       "\n",
       "       secondary_cleaner.state.floatbank4_a_level  \\\n",
       "count                                 5290.000000   \n",
       "mean                                  -505.144570   \n",
       "std                                     31.427337   \n",
       "min                                   -799.798523   \n",
       "25%                                   -500.868258   \n",
       "50%                                   -500.115727   \n",
       "75%                                   -499.404224   \n",
       "max                                   -401.565212   \n",
       "\n",
       "       secondary_cleaner.state.floatbank4_b_air  \\\n",
       "count                              5.290000e+03   \n",
       "mean                               1.373544e+01   \n",
       "std                                3.430484e+00   \n",
       "min                                2.489718e-17   \n",
       "25%                                1.202862e+01   \n",
       "50%                                1.496486e+01   \n",
       "75%                                1.596213e+01   \n",
       "max                                3.126971e+01   \n",
       "\n",
       "       secondary_cleaner.state.floatbank4_b_level  \\\n",
       "count                                 5290.000000   \n",
       "mean                                  -463.349858   \n",
       "std                                     86.189107   \n",
       "min                                   -800.836914   \n",
       "25%                                   -500.323028   \n",
       "50%                                   -499.576513   \n",
       "75%                                   -400.933805   \n",
       "max                                     -6.506986   \n",
       "\n",
       "       secondary_cleaner.state.floatbank5_a_air  \\\n",
       "count                               5290.000000   \n",
       "mean                                  12.804186   \n",
       "std                                    3.026591   \n",
       "min                                    0.069227   \n",
       "25%                                   10.914838   \n",
       "50%                                   12.954182   \n",
       "75%                                   15.097528   \n",
       "max                                   25.258848   \n",
       "\n",
       "       secondary_cleaner.state.floatbank5_a_level  \\\n",
       "count                                 5290.000000   \n",
       "mean                                  -501.329122   \n",
       "std                                     17.951495   \n",
       "min                                   -797.323986   \n",
       "25%                                   -500.726841   \n",
       "50%                                   -499.990332   \n",
       "75%                                   -499.283191   \n",
       "max                                   -244.483566   \n",
       "\n",
       "       secondary_cleaner.state.floatbank5_b_air  \\\n",
       "count                               5290.000000   \n",
       "mean                                   9.881145   \n",
       "std                                    2.868205   \n",
       "min                                    0.528083   \n",
       "25%                                    8.036719   \n",
       "50%                                   10.004301   \n",
       "75%                                   11.997467   \n",
       "max                                   14.086866   \n",
       "\n",
       "       secondary_cleaner.state.floatbank5_b_level  \\\n",
       "count                                 5290.000000   \n",
       "mean                                  -495.663398   \n",
       "std                                     34.535007   \n",
       "min                                   -800.220337   \n",
       "25%                                   -500.194668   \n",
       "50%                                   -499.990535   \n",
       "75%                                   -499.719913   \n",
       "max                                   -137.740004   \n",
       "\n",
       "       secondary_cleaner.state.floatbank6_a_air  \\\n",
       "count                               5290.000000   \n",
       "mean                                  17.304935   \n",
       "std                                    4.536544   \n",
       "min                                   -0.079426   \n",
       "25%                                   13.997317   \n",
       "50%                                   16.014935   \n",
       "75%                                   21.020013   \n",
       "max                                   26.705889   \n",
       "\n",
       "       secondary_cleaner.state.floatbank6_a_level  \n",
       "count                                 5290.000000  \n",
       "mean                                  -501.793193  \n",
       "std                                     39.044215  \n",
       "min                                   -809.741464  \n",
       "25%                                   -500.690984  \n",
       "50%                                   -500.007126  \n",
       "75%                                   -499.373018  \n",
       "max                                   -123.307487  \n",
       "\n",
       "[8 rows x 52 columns]"
      ]
     },
     "execution_count": 9,
     "metadata": {},
     "output_type": "execute_result"
    }
   ],
   "source": [
    "df_test.describe()"
   ]
  },
  {
   "cell_type": "markdown",
   "metadata": {},
   "source": [
    "### Проведём предобработку данных."
   ]
  },
  {
   "cell_type": "markdown",
   "metadata": {},
   "source": [
    "Изменим формат даты с object на datetime в каждом датафрейме"
   ]
  },
  {
   "cell_type": "code",
   "execution_count": 10,
   "metadata": {},
   "outputs": [],
   "source": [
    "df_train['date'] = pd.to_datetime(df_train['date'])\n",
    "df_test['date'] = pd.to_datetime(df_test['date'])\n",
    "df['date'] = pd.to_datetime(df['date'])"
   ]
  },
  {
   "cell_type": "markdown",
   "metadata": {},
   "source": [
    "Заменим присутствующие пропуски методом fillna на схожие по дате."
   ]
  },
  {
   "cell_type": "code",
   "execution_count": 11,
   "metadata": {},
   "outputs": [],
   "source": [
    "df_train = df_train.fillna(method='backfill')\n",
    "df_test = df_test.fillna(method='backfill')\n",
    "df = df.fillna(method='backfill')"
   ]
  },
  {
   "cell_type": "markdown",
   "metadata": {},
   "source": [
    "## Анализ данных"
   ]
  },
  {
   "cell_type": "markdown",
   "metadata": {},
   "source": [
    "### Оценим изменение концентрации металлов (Au, Ag, Pb) на различных этапах очистки"
   ]
  },
  {
   "cell_type": "markdown",
   "metadata": {},
   "source": [
    "Сгруппируем необходимые данные по переменным для построения гистограмм."
   ]
  },
  {
   "cell_type": "code",
   "execution_count": 66,
   "metadata": {},
   "outputs": [],
   "source": [
    "graf_au = df[\n",
    "    ['rougher.input.feed_au',\n",
    "     'rougher.output.concentrate_au', \n",
    "     'primary_cleaner.output.concentrate_au',\n",
    "     'final.output.concentrate_au']\n",
    "]\n",
    "\n",
    "graf_ag = df[\n",
    "    ['rougher.input.feed_ag',\n",
    "     'rougher.output.concentrate_ag', \n",
    "     'primary_cleaner.output.concentrate_ag',\n",
    "     'final.output.concentrate_ag']\n",
    "]\n",
    "\n",
    "graf_pb = df[\n",
    "    ['rougher.input.feed_pb',\n",
    "     'rougher.output.concentrate_pb', \n",
    "     'primary_cleaner.output.concentrate_pb',\n",
    "     'final.output.concentrate_pb']\n",
    "] "
   ]
  },
  {
   "cell_type": "code",
   "execution_count": 67,
   "metadata": {},
   "outputs": [
    {
     "data": {
      "image/png": "[encoded data removed]",
      "text/plain": [
       "<Figure size 432x288 with 1 Axes>"
      ]
     },
     "metadata": {
      "needs_background": "light"
     },
     "output_type": "display_data"
    }
   ],
   "source": [
    "pyplot.hist(graf_au['rougher.input.feed_au'], alpha=0.5, label='Исходное сырьё')\n",
    "pyplot.hist(graf_au['rougher.output.concentrate_au'], alpha=0.5, label='Флотация')\n",
    "pyplot.hist(graf_au['primary_cleaner.output.concentrate_au'], alpha=0.5, label='Первичная очистка',)\n",
    "pyplot.hist(graf_au['final.output.concentrate_au'], alpha=0.5, label='Итоговая концентрация')\n",
    "pyplot.legend(loc='upper right')\n",
    "pyplot.title('Изменение концентрации золота по ходу технологического процесса')\n",
    "pyplot.show()"
   ]
  },
  {
   "cell_type": "code",
   "execution_count": 68,
   "metadata": {
    "scrolled": true
   },
   "outputs": [
    {
     "data": {
      "image/png": "[encoded data removed]",
      "text/plain": [
       "<Figure size 432x288 with 1 Axes>"
      ]
     },
     "metadata": {
      "needs_background": "light"
     },
     "output_type": "display_data"
    }
   ],
   "source": [
    "pyplot.hist(graf_ag['rougher.input.feed_ag'], alpha=0.5, label='Исходное сырьё')\n",
    "pyplot.hist(graf_ag['rougher.output.concentrate_ag'], alpha=0.5, label='Флотация')\n",
    "pyplot.hist(graf_ag['primary_cleaner.output.concentrate_ag'], alpha=0.5, label='Первичная очистка')\n",
    "pyplot.hist(graf_ag['final.output.concentrate_ag'], alpha=0.5, label='Итоговая концентрация')\n",
    "pyplot.legend(loc='upper right')\n",
    "pyplot.title('Изменение концентрации серебра по ходу технологического процесса')\n",
    "pyplot.show()"
   ]
  },
  {
   "cell_type": "code",
   "execution_count": 70,
   "metadata": {
    "scrolled": false
   },
   "outputs": [
    {
     "data": {
      "image/png": "[encoded data removed]",
      "text/plain": [
       "<Figure size 432x288 with 1 Axes>"
      ]
     },
     "metadata": {
      "needs_background": "light"
     },
     "output_type": "display_data"
    }
   ],
   "source": [
    "pyplot.hist(graf_pb['rougher.input.feed_pb'], alpha=0.5, label='Исходное сырьё')\n",
    "pyplot.hist(graf_pb['rougher.output.concentrate_pb'], alpha=0.5, label='Флотация')\n",
    "pyplot.hist(graf_pb['primary_cleaner.output.concentrate_pb'], alpha=0.5, label='Первичная очистка')\n",
    "pyplot.hist(graf_pb['final.output.concentrate_pb'], alpha=0.5, label='Итоговая концентрация')\n",
    "pyplot.legend(loc='upper left')\n",
    "pyplot.title('Изменение концентрации свинца по ходу технологического процесса')\n",
    "pyplot.show()"
   ]
  },
  {
   "cell_type": "markdown",
   "metadata": {},
   "source": [
    "Как мы можем судить технологический процесс очистки от примесей золотого сырья сложен и концентрации примесей не всегда понятны логически наблюдателям не погружённым в технологический процесс, но можно судить что по ходу очистки от примесей концентрация золота расчёт, серебра падает, а свинца итоговая концентрация не сильно отличается от первоначальной, но на момент выполнения процесса флотации падает."
   ]
  },
  {
   "cell_type": "markdown",
   "metadata": {},
   "source": [
    "### Сравним распределения размеров гранул сырья на обучающей и тестовой выборках"
   ]
  },
  {
   "cell_type": "markdown",
   "metadata": {},
   "source": [
    "Исследуем размер гранул на стадии исходного сырья:"
   ]
  },
  {
   "cell_type": "code",
   "execution_count": 16,
   "metadata": {},
   "outputs": [],
   "source": [
    "graf_train = df_train['rougher.input.feed_size']\n",
    "graf_test = df_test['rougher.input.feed_size']"
   ]
  },
  {
   "cell_type": "code",
   "execution_count": 17,
   "metadata": {
    "scrolled": true
   },
   "outputs": [
    {
     "data": {
      "image/png": "[encoded data removed]",
      "text/plain": [
       "<Figure size 432x288 with 1 Axes>"
      ]
     },
     "metadata": {
      "needs_background": "light"
     },
     "output_type": "display_data"
    }
   ],
   "source": [
    "pyplot.hist(graf_train, alpha=0.5, label='Обучающая выборка')\n",
    "pyplot.hist(graf_test, alpha=0.5, label='Тестовая выборка')\n",
    "pyplot.legend(loc='upper right')\n",
    "pyplot.title('Размер гранул серебра на обучающей и тестовой выборках')\n",
    "pyplot.show()"
   ]
  },
  {
   "cell_type": "code",
   "execution_count": 93,
   "metadata": {
    "scrolled": false
   },
   "outputs": [
    {
     "data": {
      "image/png": "[encoded data removed]",
      "text/plain": [
       "<Figure size 432x288 with 1 Axes>"
      ]
     },
     "metadata": {
      "needs_background": "light"
     },
     "output_type": "display_data"
    }
   ],
   "source": [
    "sns.distplot(graf_train, bins=100, color='yellow')\n",
    "sns.distplot(graf_test, bins=100, color='green')\n",
    "ax.set_title('График распределения плотности гранул исходного сырья')\n",
    "ax.set_xlabel('Размер гранул')\n",
    "ax.set_ylabel('Плотность');"
   ]
  },
  {
   "cell_type": "code",
   "execution_count": 92,
   "metadata": {},
   "outputs": [
    {
     "data": {
      "image/png": "[encoded data removed]",
      "text/plain": [
       "<Figure size 432x288 with 1 Axes>"
      ]
     },
     "metadata": {
      "needs_background": "light"
     },
     "output_type": "display_data"
    }
   ],
   "source": [
    "graf_primary_train = df_train['primary_cleaner.input.feed_size']\n",
    "graf_primary_test = df_test['primary_cleaner.input.feed_size']\n",
    "ax = sns.distplot(graf_primary_train, bins=100, color='yellow')\n",
    "ax = sns.distplot(graf_primary_test, bins=100, color='green');\n",
    "ax.set_title('График распределения плотности гранул на момент первичной очистки продукта')\n",
    "ax.set_xlabel('Размер гранул')\n",
    "ax.set_ylabel('Плотность');"
   ]
  },
  {
   "cell_type": "markdown",
   "metadata": {},
   "source": [
    "Как мы видим размер гранул сырья сопоставим и находится приблизительно в одних и тех же интервалах (обучающая выборка больше по размеру и разброс соответственно выше)."
   ]
  },
  {
   "cell_type": "markdown",
   "metadata": {},
   "source": [
    "### Исследуйте суммарную концентрацию всех веществ на разных стадиях: в сырье, в черновом и финальном концентратах."
   ]
  },
  {
   "cell_type": "code",
   "execution_count": 18,
   "metadata": {
    "scrolled": true
   },
   "outputs": [
    {
     "data": {
      "image/png": "[encoded data removed]",
      "text/plain": [
       "<Figure size 432x288 with 1 Axes>"
      ]
     },
     "metadata": {
      "needs_background": "light"
     },
     "output_type": "display_data"
    }
   ],
   "source": [
    "rougher_input = df['rougher.input.feed_ag']+df['rougher.input.feed_au']+df['rougher.input.feed_pb']+df['rougher.input.feed_sol']\n",
    "rougher_output = df['rougher.output.concentrate_ag']+df['rougher.output.concentrate_au']+df['rougher.output.concentrate_pb']+df['rougher.output.concentrate_sol']\n",
    "final_output = df['final.output.concentrate_ag']+df['final.output.concentrate_au']+df['final.output.concentrate_pb']+df['final.output.concentrate_sol']\n",
    "\n",
    "\n",
    "pyplot.hist(rougher_input, alpha=0.5, label='Сырьё')\n",
    "pyplot.hist(rougher_output, alpha=0.5, label='Черновой концентрат')\n",
    "pyplot.hist(final_output, alpha=0.5, label='Финальный концентрат')\n",
    "\n",
    "pyplot.legend(loc='upper left')\n",
    "pyplot.title('Суммарная концентрация веществ в разных стадиях производственного процесса')\n",
    "pyplot.show()"
   ]
  },
  {
   "cell_type": "markdown",
   "metadata": {},
   "source": [
    "Как мы видим из гистограммы присутствуют с высокой долей вероятности \"мусорные значения\", которых минимальное колличество. Исключим эти данные из обучающего датасета для повышения точности обучаемых моделей."
   ]
  },
  {
   "cell_type": "code",
   "execution_count": 19,
   "metadata": {},
   "outputs": [],
   "source": [
    "df_train['sum_rougher_input'] = df_train['rougher.input.feed_ag']+df_train['rougher.input.feed_au']+df_train['rougher.input.feed_pb']+df_train['rougher.input.feed_sol']\n",
    "df_train['sum_rougher_output'] = df_train['rougher.output.concentrate_ag']+df_train['rougher.output.concentrate_au']+df_train['rougher.output.concentrate_pb']+df_train['rougher.output.concentrate_sol']\n",
    "df_train['sum_final_output'] = df_train['final.output.concentrate_ag']+df_train['final.output.concentrate_au']+df_train['final.output.concentrate_pb']+df_train['final.output.concentrate_sol']\n",
    "\n",
    "df_train = df_train.query('sum_rougher_input > 30 and sum_rougher_output > 30 and sum_final_output>30')\n"
   ]
  },
  {
   "cell_type": "markdown",
   "metadata": {},
   "source": [
    "## Модель"
   ]
  },
  {
   "cell_type": "markdown",
   "metadata": {},
   "source": [
    "### Напишеме функцию для вычисления sMAPE"
   ]
  },
  {
   "cell_type": "code",
   "execution_count": 20,
   "metadata": {},
   "outputs": [],
   "source": [
    "def smape(target, prediction):\n",
    "    return 1/len(target) * np.sum(np.abs(prediction - target) / (np.abs(target) + np.abs(prediction))*2)*100"
   ]
  },
  {
   "cell_type": "markdown",
   "metadata": {},
   "source": [
    "### Обучим несколько моделей и оценим их качество кросс-валидацией. Проверим модели на тестовой выборке."
   ]
  },
  {
   "cell_type": "markdown",
   "metadata": {},
   "source": [
    "Приведём колонки в соответствии с тестовым датасетом для корректного обучения моделей:"
   ]
  },
  {
   "cell_type": "code",
   "execution_count": 96,
   "metadata": {},
   "outputs": [
    {
     "name": "stdout",
     "output_type": "stream",
     "text": [
      "<class 'pandas.core.frame.DataFrame'>\n",
      "Int64Index: 13655 entries, 0 to 14148\n",
      "Data columns (total 55 columns):\n",
      " #   Column                                      Non-Null Count  Dtype         \n",
      "---  ------                                      --------------  -----         \n",
      " 0   date                                        13655 non-null  datetime64[ns]\n",
      " 1   primary_cleaner.input.sulfate               13655 non-null  float64       \n",
      " 2   primary_cleaner.input.depressant            13655 non-null  float64       \n",
      " 3   primary_cleaner.input.feed_size             13655 non-null  float64       \n",
      " 4   primary_cleaner.input.xanthate              13655 non-null  float64       \n",
      " 5   primary_cleaner.state.floatbank8_a_air      13655 non-null  float64       \n",
      " 6   primary_cleaner.state.floatbank8_a_level    13655 non-null  float64       \n",
      " 7   primary_cleaner.state.floatbank8_b_air      13655 non-null  float64       \n",
      " 8   primary_cleaner.state.floatbank8_b_level    13655 non-null  float64       \n",
      " 9   primary_cleaner.state.floatbank8_c_air      13655 non-null  float64       \n",
      " 10  primary_cleaner.state.floatbank8_c_level    13655 non-null  float64       \n",
      " 11  primary_cleaner.state.floatbank8_d_air      13655 non-null  float64       \n",
      " 12  primary_cleaner.state.floatbank8_d_level    13655 non-null  float64       \n",
      " 13  rougher.input.feed_ag                       13655 non-null  float64       \n",
      " 14  rougher.input.feed_pb                       13655 non-null  float64       \n",
      " 15  rougher.input.feed_rate                     13655 non-null  float64       \n",
      " 16  rougher.input.feed_size                     13655 non-null  float64       \n",
      " 17  rougher.input.feed_sol                      13655 non-null  float64       \n",
      " 18  rougher.input.feed_au                       13655 non-null  float64       \n",
      " 19  rougher.input.floatbank10_sulfate           13655 non-null  float64       \n",
      " 20  rougher.input.floatbank10_xanthate          13655 non-null  float64       \n",
      " 21  rougher.input.floatbank11_sulfate           13655 non-null  float64       \n",
      " 22  rougher.input.floatbank11_xanthate          13655 non-null  float64       \n",
      " 23  rougher.state.floatbank10_a_air             13655 non-null  float64       \n",
      " 24  rougher.state.floatbank10_a_level           13655 non-null  float64       \n",
      " 25  rougher.state.floatbank10_b_air             13655 non-null  float64       \n",
      " 26  rougher.state.floatbank10_b_level           13655 non-null  float64       \n",
      " 27  rougher.state.floatbank10_c_air             13655 non-null  float64       \n",
      " 28  rougher.state.floatbank10_c_level           13655 non-null  float64       \n",
      " 29  rougher.state.floatbank10_d_air             13655 non-null  float64       \n",
      " 30  rougher.state.floatbank10_d_level           13655 non-null  float64       \n",
      " 31  rougher.state.floatbank10_e_air             13655 non-null  float64       \n",
      " 32  rougher.state.floatbank10_e_level           13655 non-null  float64       \n",
      " 33  rougher.state.floatbank10_f_air             13655 non-null  float64       \n",
      " 34  rougher.state.floatbank10_f_level           13655 non-null  float64       \n",
      " 35  secondary_cleaner.state.floatbank2_a_air    13655 non-null  float64       \n",
      " 36  secondary_cleaner.state.floatbank2_a_level  13655 non-null  float64       \n",
      " 37  secondary_cleaner.state.floatbank2_b_air    13655 non-null  float64       \n",
      " 38  secondary_cleaner.state.floatbank2_b_level  13655 non-null  float64       \n",
      " 39  secondary_cleaner.state.floatbank3_a_air    13655 non-null  float64       \n",
      " 40  secondary_cleaner.state.floatbank3_a_level  13655 non-null  float64       \n",
      " 41  secondary_cleaner.state.floatbank3_b_air    13655 non-null  float64       \n",
      " 42  secondary_cleaner.state.floatbank3_b_level  13655 non-null  float64       \n",
      " 43  secondary_cleaner.state.floatbank4_a_air    13655 non-null  float64       \n",
      " 44  secondary_cleaner.state.floatbank4_a_level  13655 non-null  float64       \n",
      " 45  secondary_cleaner.state.floatbank4_b_air    13655 non-null  float64       \n",
      " 46  secondary_cleaner.state.floatbank4_b_level  13655 non-null  float64       \n",
      " 47  secondary_cleaner.state.floatbank5_a_air    13655 non-null  float64       \n",
      " 48  secondary_cleaner.state.floatbank5_a_level  13655 non-null  float64       \n",
      " 49  secondary_cleaner.state.floatbank5_b_air    13655 non-null  float64       \n",
      " 50  secondary_cleaner.state.floatbank5_b_level  13655 non-null  float64       \n",
      " 51  secondary_cleaner.state.floatbank6_a_air    13655 non-null  float64       \n",
      " 52  secondary_cleaner.state.floatbank6_a_level  13655 non-null  float64       \n",
      " 53  rougher.output.recovery                     13655 non-null  float64       \n",
      " 54  final.output.recovery                       13655 non-null  float64       \n",
      "dtypes: datetime64[ns](1), float64(54)\n",
      "memory usage: 5.8 MB\n"
     ]
    }
   ],
   "source": [
    "columns_test = df_test.columns\n",
    "columns_target = ['rougher.output.recovery','final.output.recovery']\n",
    "columns_test = columns_test.values.tolist()\n",
    "columns_test = columns_test+columns_target\n",
    "columns_test\n",
    "df_train_new = df_train[columns_test]\n",
    "df_train_new.info()"
   ]
  },
  {
   "cell_type": "code",
   "execution_count": 22,
   "metadata": {},
   "outputs": [],
   "source": [
    "target_output = df_train_new['rougher.output.recovery']\n",
    "target_final = df_train_new['final.output.recovery']\n",
    "features = df_train_new.drop(['date','rougher.output.recovery','final.output.recovery'] , axis=1)\n",
    "\n",
    "features_train_out, features_valid_out, target_train_out, target_valid_out = train_test_split(\n",
    "    features, target_output, test_size=0.25, random_state=12345)\n",
    "\n",
    "features_train_final, features_valid_final, target_train_final, target_valid_final = train_test_split(\n",
    "    features, target_final, test_size=0.25, random_state=12345)"
   ]
  },
  {
   "cell_type": "code",
   "execution_count": 101,
   "metadata": {},
   "outputs": [],
   "source": [
    "target_out = df_train_new['rougher.output.recovery']\n",
    "target_final = df_train_new['final.output.recovery']\n",
    "features = df_train_new.drop(['date','rougher.output.recovery','final.output.recovery'] , axis=1)"
   ]
  },
  {
   "cell_type": "code",
   "execution_count": 99,
   "metadata": {},
   "outputs": [],
   "source": [
    "model_out_1 = LinearRegression()\n",
    "model_out_1.fit(features_train_out, target_train_out)\n",
    "predictions_out_1 = model_out_1.predict(features_valid_out)\n",
    "\n",
    "scores_out_1 = cross_val_score(model_out_1, features_train_out, target_train_out, cv=5)\n",
    "final_score_out_1 = scores_out_1.mean()\n",
    "print('Средняя оценка качества модели:', final_score_out_1)\n",
    "print('sMAPE:',smape(target_valid_out, predictions_out_1))"
   ]
  },
  {
   "cell_type": "code",
   "execution_count": 110,
   "metadata": {
    "scrolled": true
   },
   "outputs": [
    {
     "data": {
      "text/plain": [
       "make_scorer(smape, beta=-1)"
      ]
     },
     "execution_count": 110,
     "metadata": {},
     "output_type": "execute_result"
    }
   ],
   "source": [
    "func_score = make_scorer(smape, beta=-1)\n",
    "func_score"
   ]
  },
  {
   "cell_type": "code",
   "execution_count": 102,
   "metadata": {},
   "outputs": [
    {
     "name": "stdout",
     "output_type": "stream",
     "text": [
      "Средняя оценка качества модели: -0.3105713497933153\n",
      "sMAPE: 4.500335828877444\n"
     ]
    }
   ],
   "source": [
    "model_out_1 = LinearRegression()\n",
    "model_out_1.fit(features, target_out)\n",
    "predictions_out_1 = model_out_1.predict(features)\n",
    "\n",
    "scores_out_1 = cross_val_score(model_out_1, features, target_out, cv=5)\n",
    "final_score_out_1 = scores_out_1.mean()\n",
    "\n",
    "print('Средняя оценка качества модели:', final_score_out_1)\n",
    "\n",
    "print('sMAPE:',smape(target_out, predictions_out_1))"
   ]
  },
  {
   "cell_type": "code",
   "execution_count": 24,
   "metadata": {},
   "outputs": [
    {
     "name": "stdout",
     "output_type": "stream",
     "text": [
      "Средняя оценка качества модели: 0.3463927011829796\n",
      "sMAPE: 7.707075226710233\n"
     ]
    }
   ],
   "source": [
    "model_final_1 = LinearRegression()\n",
    "model_final_1.fit(features_train_final, target_train_final)\n",
    "predictions_final_1 = model_final_1.predict(features_valid_final)\n",
    "\n",
    "scores_final_1 = cross_val_score(model_final_1, features_train_final, target_train_final, cv=5)\n",
    "final_score_final_1 = scores_final_1.mean()\n",
    "print('Средняя оценка качества модели:', final_score_final_1)\n",
    "print('sMAPE:',smape(target_valid_final, predictions_final_1))"
   ]
  },
  {
   "cell_type": "code",
   "execution_count": 119,
   "metadata": {
    "scrolled": true
   },
   "outputs": [
    {
     "name": "stdout",
     "output_type": "stream",
     "text": [
      "Глубина 10 , MAE: 2.3294838759667433\n",
      "Глубина 11 , MAE: 2.255628125906265\n",
      "Глубина 12 , MAE: 2.202445726215655\n",
      "Глубина 13 , MAE: 2.1372639836548912\n",
      "Глубина 14 , MAE: 2.1104281887290384\n",
      "Глубина 15 , MAE: 2.075692134663289\n",
      "Глубина 16 , MAE: 2.0521164192914783\n",
      "Глубина 17 , MAE: 2.0488142092885986\n",
      "Глубина 18 , MAE: 2.0223348082886083\n",
      "Глубина 19 , MAE: 2.040055951583415\n",
      "Глубина 20 , MAE: 2.0358189707644043\n"
     ]
    }
   ],
   "source": [
    "for depth in range(10,21,1):\n",
    "    model_out_2 = RandomForestRegressor(n_estimators=20, max_depth=depth, random_state=12345)\n",
    "    model_out_2.fit(features_train_out, target_train_out)\n",
    "    predictions_out_2 = model_out_2.predict(features_valid_out)\n",
    "    print(\"Глубина\",depth, \", MAE:\",mean_absolute_error(target_valid_out, predictions_out_2))"
   ]
  },
  {
   "cell_type": "code",
   "execution_count": 120,
   "metadata": {
    "scrolled": true
   },
   "outputs": [
    {
     "name": "stdout",
     "output_type": "stream",
     "text": [
      "Количество деревьев 10 MAE: 2.11078867494565\n",
      "Количество деревьев 20 MAE: 2.0223348082886083\n",
      "Количество деревьев 30 MAE: 1.9873151045536668\n",
      "Количество деревьев 40 MAE: 1.9869605759752198\n",
      "Количество деревьев 50 MAE: 1.9761853710901853\n",
      "Количество деревьев 60 MAE: 1.9724117019008096\n",
      "Количество деревьев 70 MAE: 1.9700539847843923\n",
      "Количество деревьев 80 MAE: 1.9721110274150615\n",
      "Количество деревьев 90 MAE: 1.9688934387906607\n",
      "Количество деревьев 100 MAE: 1.9629928248466788\n"
     ]
    }
   ],
   "source": [
    "for estimators in range(10, 110, 10):\n",
    "    model_out_2 = RandomForestRegressor(n_estimators=estimators, max_depth=18, random_state=12345)\n",
    "    model_out_2.fit(features_train_out, target_train_out)\n",
    "    predictions_out_2 = model_out_2.predict(features_valid_out)\n",
    "    print(\"Количество деревьев\",estimators, \"MAE:\",mean_absolute_error(target_valid_out, predictions_out_2))"
   ]
  },
  {
   "cell_type": "code",
   "execution_count": 46,
   "metadata": {},
   "outputs": [
    {
     "name": "stdout",
     "output_type": "stream",
     "text": [
      "Средняя оценка качества модели: 0.7892074336926183\n",
      "sMAPE: 2.445616954023137\n"
     ]
    }
   ],
   "source": [
    "model_out_2 = RandomForestRegressor(n_estimators=90, max_depth=19, random_state=12345)\n",
    "model_out_2.fit(features_train_out, target_train_out)\n",
    "predictions_out_2 = model_out_2.predict(features_valid_out)\n",
    "scores_out_2 = cross_val_score(model_out_2, features_train_out, target_train_out, cv=5)\n",
    "final_score_out_2 = scores_out_2.mean()\n",
    "print('Средняя оценка качества модели:', final_score_out_2)\n",
    "print('sMAPE:',smape(target_valid_out, predictions_out_2))"
   ]
  },
  {
   "cell_type": "code",
   "execution_count": 28,
   "metadata": {},
   "outputs": [
    {
     "name": "stdout",
     "output_type": "stream",
     "text": [
      "Глубина 10 MAE: 3.8665323482815026\n",
      "Глубина 11 MAE: 3.798881913343717\n",
      "Глубина 12 MAE: 3.7404329494165487\n",
      "Глубина 13 MAE: 3.689847125835367\n",
      "Глубина 14 MAE: 3.648769168684073\n",
      "Глубина 15 MAE: 3.608397119803691\n",
      "Глубина 16 MAE: 3.5934564731661087\n",
      "Глубина 17 MAE: 3.5669663636877234\n",
      "Глубина 18 MAE: 3.559853088055844\n",
      "Глубина 19 MAE: 3.5455748543090104\n",
      "Глубина 20 MAE: 3.532003786222472\n"
     ]
    }
   ],
   "source": [
    "for depth in range(10, 21, 1):\n",
    "    model_final_2 = RandomForestRegressor(n_estimators=20, max_depth=depth, random_state=12345)\n",
    "    model_final_2.fit(features_train_final, target_train_final)\n",
    "    predicted_valid_final_2 = model_final_2.predict(features_valid_final)\n",
    "    print(\"Глубина\",depth, \"MAE:\",mean_absolute_error(target_valid_final, predicted_valid_final_2))"
   ]
  },
  {
   "cell_type": "code",
   "execution_count": 29,
   "metadata": {
    "scrolled": true
   },
   "outputs": [
    {
     "name": "stdout",
     "output_type": "stream",
     "text": [
      "Количество деревьев 10 MAE: 3.740714561197348\n",
      "Количество деревьев 20 MAE: 3.608397119803691\n",
      "Количество деревьев 30 MAE: 3.59846797064217\n",
      "Количество деревьев 40 MAE: 3.5705176128620653\n",
      "Количество деревьев 50 MAE: 3.5546525752792344\n",
      "Количество деревьев 60 MAE: 3.5466119275112877\n",
      "Количество деревьев 70 MAE: 3.5358993983072304\n",
      "Количество деревьев 80 MAE: 3.529798981447508\n",
      "Количество деревьев 90 MAE: 3.5227709239611174\n",
      "Количество деревьев 100 MAE: 3.5192605254682734\n"
     ]
    }
   ],
   "source": [
    "for estimators in range(10, 110, 10):\n",
    "    model_final_2 = RandomForestRegressor(n_estimators=estimators, max_depth=20, random_state=12345)\n",
    "    model_final_2.fit(features_train_final, target_train_final)\n",
    "    predicted_valid_final_2 = model_final_2.predict(features_valid_final)\n",
    "    print(\"Количество деревьев\",estimators, \"MAE:\",mean_absolute_error(target_valid_final, predicted_valid_final_2))"
   ]
  },
  {
   "cell_type": "code",
   "execution_count": 43,
   "metadata": {
    "scrolled": true
   },
   "outputs": [
    {
     "name": "stdout",
     "output_type": "stream",
     "text": [
      "Средняя оценка качества модели: 0.5977251424095387\n",
      "sMAPE: 5.4153844207011215\n"
     ]
    }
   ],
   "source": [
    "model_final_2 = RandomForestRegressor(n_estimators=90, max_depth=20, random_state=12345)\n",
    "model_final_2.fit(features_train_final, target_train_final)\n",
    "predictions_final_2 = model_final_2.predict(features_valid_final)\n",
    "scores_final_2 = cross_val_score(model_final_2, features_train_final, target_train_final, cv=5)\n",
    "final_score_final_2 = scores_final_2.mean()\n",
    "print('Средняя оценка качества модели:', final_score_final_2)\n",
    "print('sMAPE:',smape(target_valid_final, predictions_final_2))"
   ]
  },
  {
   "cell_type": "markdown",
   "metadata": {},
   "source": [
    "Как мы видим наилучшие показатели по обоим целевым признакам по оценкам показателя sMAPE и кросс-валидации за методом случайного леса."
   ]
  },
  {
   "cell_type": "markdown",
   "metadata": {},
   "source": [
    "Оценим работу моделей на тестовой выборке, добавив к ней целевые признаки"
   ]
  },
  {
   "cell_type": "code",
   "execution_count": 49,
   "metadata": {},
   "outputs": [
    {
     "data": {
      "text/html": [
       "<div>\n",
       "<style scoped>\n",
       "    .dataframe tbody tr th:only-of-type {\n",
       "        vertical-align: middle;\n",
       "    }\n",
       "\n",
       "    .dataframe tbody tr th {\n",
       "        vertical-align: top;\n",
       "    }\n",
       "\n",
       "    .dataframe thead th {\n",
       "        text-align: right;\n",
       "    }\n",
       "</style>\n",
       "<table border=\"1\" class=\"dataframe\">\n",
       "  <thead>\n",
       "    <tr style=\"text-align: right;\">\n",
       "      <th></th>\n",
       "      <th>date</th>\n",
       "      <th>primary_cleaner.input.sulfate</th>\n",
       "      <th>primary_cleaner.input.depressant</th>\n",
       "      <th>primary_cleaner.input.feed_size</th>\n",
       "      <th>primary_cleaner.input.xanthate</th>\n",
       "      <th>primary_cleaner.state.floatbank8_a_air</th>\n",
       "      <th>primary_cleaner.state.floatbank8_a_level</th>\n",
       "      <th>primary_cleaner.state.floatbank8_b_air</th>\n",
       "      <th>primary_cleaner.state.floatbank8_b_level</th>\n",
       "      <th>primary_cleaner.state.floatbank8_c_air</th>\n",
       "      <th>...</th>\n",
       "      <th>secondary_cleaner.state.floatbank4_b_air</th>\n",
       "      <th>secondary_cleaner.state.floatbank4_b_level</th>\n",
       "      <th>secondary_cleaner.state.floatbank5_a_air</th>\n",
       "      <th>secondary_cleaner.state.floatbank5_a_level</th>\n",
       "      <th>secondary_cleaner.state.floatbank5_b_air</th>\n",
       "      <th>secondary_cleaner.state.floatbank5_b_level</th>\n",
       "      <th>secondary_cleaner.state.floatbank6_a_air</th>\n",
       "      <th>secondary_cleaner.state.floatbank6_a_level</th>\n",
       "      <th>rougher.output.recovery</th>\n",
       "      <th>final.output.recovery</th>\n",
       "    </tr>\n",
       "  </thead>\n",
       "  <tbody>\n",
       "    <tr>\n",
       "      <th>0</th>\n",
       "      <td>2016-09-01 00:59:59</td>\n",
       "      <td>210.800909</td>\n",
       "      <td>14.993118</td>\n",
       "      <td>8.080000</td>\n",
       "      <td>1.005021</td>\n",
       "      <td>1398.981301</td>\n",
       "      <td>-500.225577</td>\n",
       "      <td>1399.144926</td>\n",
       "      <td>-499.919735</td>\n",
       "      <td>1400.102998</td>\n",
       "      <td>...</td>\n",
       "      <td>8.016656</td>\n",
       "      <td>-501.289139</td>\n",
       "      <td>7.946562</td>\n",
       "      <td>-432.317850</td>\n",
       "      <td>4.872511</td>\n",
       "      <td>-500.037437</td>\n",
       "      <td>26.705889</td>\n",
       "      <td>-499.709414</td>\n",
       "      <td>89.993421</td>\n",
       "      <td>70.273583</td>\n",
       "    </tr>\n",
       "    <tr>\n",
       "      <th>1</th>\n",
       "      <td>2016-09-01 01:59:59</td>\n",
       "      <td>215.392455</td>\n",
       "      <td>14.987471</td>\n",
       "      <td>8.080000</td>\n",
       "      <td>0.990469</td>\n",
       "      <td>1398.777912</td>\n",
       "      <td>-500.057435</td>\n",
       "      <td>1398.055362</td>\n",
       "      <td>-499.778182</td>\n",
       "      <td>1396.151033</td>\n",
       "      <td>...</td>\n",
       "      <td>8.130979</td>\n",
       "      <td>-499.634209</td>\n",
       "      <td>7.958270</td>\n",
       "      <td>-525.839648</td>\n",
       "      <td>4.878850</td>\n",
       "      <td>-500.162375</td>\n",
       "      <td>25.019940</td>\n",
       "      <td>-499.819438</td>\n",
       "      <td>88.089657</td>\n",
       "      <td>68.910432</td>\n",
       "    </tr>\n",
       "    <tr>\n",
       "      <th>2</th>\n",
       "      <td>2016-09-01 02:59:59</td>\n",
       "      <td>215.259946</td>\n",
       "      <td>12.884934</td>\n",
       "      <td>7.786667</td>\n",
       "      <td>0.996043</td>\n",
       "      <td>1398.493666</td>\n",
       "      <td>-500.868360</td>\n",
       "      <td>1398.860436</td>\n",
       "      <td>-499.764529</td>\n",
       "      <td>1398.075709</td>\n",
       "      <td>...</td>\n",
       "      <td>8.096893</td>\n",
       "      <td>-500.827423</td>\n",
       "      <td>8.071056</td>\n",
       "      <td>-500.801673</td>\n",
       "      <td>4.905125</td>\n",
       "      <td>-499.828510</td>\n",
       "      <td>24.994862</td>\n",
       "      <td>-500.622559</td>\n",
       "      <td>88.412756</td>\n",
       "      <td>68.143213</td>\n",
       "    </tr>\n",
       "  </tbody>\n",
       "</table>\n",
       "<p>3 rows × 55 columns</p>\n",
       "</div>"
      ],
      "text/plain": [
       "                 date  primary_cleaner.input.sulfate  \\\n",
       "0 2016-09-01 00:59:59                     210.800909   \n",
       "1 2016-09-01 01:59:59                     215.392455   \n",
       "2 2016-09-01 02:59:59                     215.259946   \n",
       "\n",
       "   primary_cleaner.input.depressant  primary_cleaner.input.feed_size  \\\n",
       "0                         14.993118                         8.080000   \n",
       "1                         14.987471                         8.080000   \n",
       "2                         12.884934                         7.786667   \n",
       "\n",
       "   primary_cleaner.input.xanthate  primary_cleaner.state.floatbank8_a_air  \\\n",
       "0                        1.005021                             1398.981301   \n",
       "1                        0.990469                             1398.777912   \n",
       "2                        0.996043                             1398.493666   \n",
       "\n",
       "   primary_cleaner.state.floatbank8_a_level  \\\n",
       "0                               -500.225577   \n",
       "1                               -500.057435   \n",
       "2                               -500.868360   \n",
       "\n",
       "   primary_cleaner.state.floatbank8_b_air  \\\n",
       "0                             1399.144926   \n",
       "1                             1398.055362   \n",
       "2                             1398.860436   \n",
       "\n",
       "   primary_cleaner.state.floatbank8_b_level  \\\n",
       "0                               -499.919735   \n",
       "1                               -499.778182   \n",
       "2                               -499.764529   \n",
       "\n",
       "   primary_cleaner.state.floatbank8_c_air  ...  \\\n",
       "0                             1400.102998  ...   \n",
       "1                             1396.151033  ...   \n",
       "2                             1398.075709  ...   \n",
       "\n",
       "   secondary_cleaner.state.floatbank4_b_air  \\\n",
       "0                                  8.016656   \n",
       "1                                  8.130979   \n",
       "2                                  8.096893   \n",
       "\n",
       "   secondary_cleaner.state.floatbank4_b_level  \\\n",
       "0                                 -501.289139   \n",
       "1                                 -499.634209   \n",
       "2                                 -500.827423   \n",
       "\n",
       "   secondary_cleaner.state.floatbank5_a_air  \\\n",
       "0                                  7.946562   \n",
       "1                                  7.958270   \n",
       "2                                  8.071056   \n",
       "\n",
       "   secondary_cleaner.state.floatbank5_a_level  \\\n",
       "0                                 -432.317850   \n",
       "1                                 -525.839648   \n",
       "2                                 -500.801673   \n",
       "\n",
       "   secondary_cleaner.state.floatbank5_b_air  \\\n",
       "0                                  4.872511   \n",
       "1                                  4.878850   \n",
       "2                                  4.905125   \n",
       "\n",
       "   secondary_cleaner.state.floatbank5_b_level  \\\n",
       "0                                 -500.037437   \n",
       "1                                 -500.162375   \n",
       "2                                 -499.828510   \n",
       "\n",
       "   secondary_cleaner.state.floatbank6_a_air  \\\n",
       "0                                 26.705889   \n",
       "1                                 25.019940   \n",
       "2                                 24.994862   \n",
       "\n",
       "   secondary_cleaner.state.floatbank6_a_level  rougher.output.recovery  \\\n",
       "0                                 -499.709414                89.993421   \n",
       "1                                 -499.819438                88.089657   \n",
       "2                                 -500.622559                88.412756   \n",
       "\n",
       "   final.output.recovery  \n",
       "0              70.273583  \n",
       "1              68.910432  \n",
       "2              68.143213  \n",
       "\n",
       "[3 rows x 55 columns]"
      ]
     },
     "execution_count": 49,
     "metadata": {},
     "output_type": "execute_result"
    }
   ],
   "source": [
    "data_test = df_test.merge(df, how='left').loc[:,columns_test]\n",
    "data_test.head(3)"
   ]
  },
  {
   "cell_type": "code",
   "execution_count": 41,
   "metadata": {},
   "outputs": [],
   "source": [
    "target_output_test = data_test['rougher.output.recovery']\n",
    "target_final_test = data_test['final.output.recovery']\n",
    "features_test = data_test.drop(['date','rougher.output.recovery','final.output.recovery'] , axis=1)"
   ]
  },
  {
   "cell_type": "code",
   "execution_count": 50,
   "metadata": {},
   "outputs": [
    {
     "name": "stdout",
     "output_type": "stream",
     "text": [
      "sMAPE: 8.020624713993662\n"
     ]
    }
   ],
   "source": [
    "predictions_out_test= model_out_2.predict(features_test)\n",
    "\n",
    "print('sMAPE:',smape(target_output_test, predictions_out_test))\n",
    "\n"
   ]
  },
  {
   "cell_type": "code",
   "execution_count": 51,
   "metadata": {},
   "outputs": [
    {
     "name": "stdout",
     "output_type": "stream",
     "text": [
      "sMAPE: 9.796686900978372\n"
     ]
    }
   ],
   "source": [
    "predictions_final_test = model_final_2.predict(features_test)\n",
    "\n",
    "print('sMAPE:',smape(target_final_test, predictions_final_test))"
   ]
  },
  {
   "cell_type": "markdown",
   "metadata": {},
   "source": [
    "Рассчитаем итоговый sMAPE:"
   ]
  },
  {
   "cell_type": "code",
   "execution_count": 54,
   "metadata": {},
   "outputs": [
    {
     "name": "stdout",
     "output_type": "stream",
     "text": [
      "Итоговый sMAPE составляет: 9.352671354232195\n"
     ]
    }
   ],
   "source": [
    "final_smape = 0.25*smape(target_output_test, predictions_out_test)+0.75*smape(target_final_test, predictions_final_test)\n",
    "print('Итоговый sMAPE составляет:',final_smape)"
   ]
  },
  {
   "cell_type": "markdown",
   "metadata": {},
   "source": [
    "## Выводы"
   ]
  },
  {
   "cell_type": "markdown",
   "metadata": {},
   "source": [
    "Результатом текущего проекта можно считать обученную модель методом случайного леса, которая позволяет оценить на основании входных параметров сырья итоговую эффективность обогащения после этапа флотации и итогового продукта находящегося в финальной точке технологического процесса. \n",
    "\n",
    "Это позволит бизнесу оптимизировть технологический процесс и повысить маржинальность, путём отбора и расчёта операций которые принесут прибыль. Дополнительно к данной модели необходимо сделать экономический расчёт с точкой безубыточности, чтобы понимать с достижение какого результата предсказания модели следует отказаться от запуска технологический процесс золотосодержащей руды с вводыми характеристиками.\n"
   ]
  }
 ],
 "metadata": {
  "ExecuteTimeLog": [
   {
    "duration": 1075,
    "start_time": "2022-06-27T09:04:03.210Z"
   },
   {
    "duration": 1437,
    "start_time": "2022-06-27T09:09:24.192Z"
   },
   {
    "duration": 24,
    "start_time": "2022-06-27T09:09:51.952Z"
   },
   {
    "duration": 18,
    "start_time": "2022-06-27T09:09:57.816Z"
   },
   {
    "duration": 21,
    "start_time": "2022-06-27T09:10:01.968Z"
   },
   {
    "duration": 18,
    "start_time": "2022-06-27T09:10:30.095Z"
   },
   {
    "duration": 231,
    "start_time": "2022-06-27T09:11:52.946Z"
   },
   {
    "duration": 57,
    "start_time": "2022-06-27T11:14:58.121Z"
   },
   {
    "duration": 1049,
    "start_time": "2022-06-27T11:15:34.014Z"
   },
   {
    "duration": 694,
    "start_time": "2022-06-27T11:15:35.065Z"
   },
   {
    "duration": 29,
    "start_time": "2022-06-27T11:15:35.761Z"
   },
   {
    "duration": 17,
    "start_time": "2022-06-27T11:15:35.792Z"
   },
   {
    "duration": 253,
    "start_time": "2022-06-27T11:15:35.811Z"
   },
   {
    "duration": 53,
    "start_time": "2022-06-27T11:15:36.066Z"
   },
   {
    "duration": 0,
    "start_time": "2022-06-27T11:15:36.120Z"
   },
   {
    "duration": 0,
    "start_time": "2022-06-27T11:15:36.122Z"
   },
   {
    "duration": 56,
    "start_time": "2022-06-27T11:17:00.945Z"
   },
   {
    "duration": 85,
    "start_time": "2022-06-27T11:17:06.842Z"
   },
   {
    "duration": 96,
    "start_time": "2022-06-27T11:17:18.727Z"
   },
   {
    "duration": 174,
    "start_time": "2022-06-27T11:17:29.896Z"
   },
   {
    "duration": 53,
    "start_time": "2022-06-27T11:17:36.435Z"
   },
   {
    "duration": 51,
    "start_time": "2022-06-27T11:17:48.851Z"
   },
   {
    "duration": 5,
    "start_time": "2022-06-27T11:18:48.268Z"
   },
   {
    "duration": 8,
    "start_time": "2022-06-27T11:18:58.503Z"
   },
   {
    "duration": 5,
    "start_time": "2022-06-27T11:19:59.236Z"
   },
   {
    "duration": 9,
    "start_time": "2022-06-27T11:20:09.446Z"
   },
   {
    "duration": 5,
    "start_time": "2022-06-27T11:20:10.667Z"
   },
   {
    "duration": 57,
    "start_time": "2022-06-27T11:20:51.019Z"
   },
   {
    "duration": 9,
    "start_time": "2022-06-27T11:21:07.595Z"
   },
   {
    "duration": 7,
    "start_time": "2022-06-27T11:21:13.948Z"
   },
   {
    "duration": 6,
    "start_time": "2022-06-27T11:22:21.515Z"
   },
   {
    "duration": 3,
    "start_time": "2022-06-27T11:22:36.166Z"
   },
   {
    "duration": 5,
    "start_time": "2022-06-27T11:22:39.988Z"
   },
   {
    "duration": 59,
    "start_time": "2022-06-27T11:26:56.893Z"
   },
   {
    "duration": 4,
    "start_time": "2022-06-27T11:27:08.029Z"
   },
   {
    "duration": 19,
    "start_time": "2022-06-27T11:27:51.411Z"
   },
   {
    "duration": 4,
    "start_time": "2022-06-27T11:28:02.253Z"
   },
   {
    "duration": 4,
    "start_time": "2022-06-27T11:28:05.626Z"
   },
   {
    "duration": 125,
    "start_time": "2022-06-27T11:28:08.216Z"
   },
   {
    "duration": 13,
    "start_time": "2022-06-27T11:28:23.509Z"
   },
   {
    "duration": 9,
    "start_time": "2022-06-27T11:52:06.750Z"
   },
   {
    "duration": 23,
    "start_time": "2022-06-27T11:52:16.395Z"
   },
   {
    "duration": 77,
    "start_time": "2022-06-27T11:52:25.899Z"
   },
   {
    "duration": 16,
    "start_time": "2022-06-27T11:53:06.493Z"
   },
   {
    "duration": 34,
    "start_time": "2022-06-27T11:53:36.821Z"
   },
   {
    "duration": 20,
    "start_time": "2022-06-27T11:53:41.484Z"
   },
   {
    "duration": 15,
    "start_time": "2022-06-27T12:24:43.543Z"
   },
   {
    "duration": 854,
    "start_time": "2022-06-27T12:28:28.664Z"
   },
   {
    "duration": 13,
    "start_time": "2022-06-27T12:28:52.511Z"
   },
   {
    "duration": 14,
    "start_time": "2022-06-27T12:29:04.912Z"
   },
   {
    "duration": 18,
    "start_time": "2022-06-27T12:29:25.429Z"
   },
   {
    "duration": 903,
    "start_time": "2022-06-27T12:30:20.200Z"
   },
   {
    "duration": 13,
    "start_time": "2022-06-27T12:30:39.650Z"
   },
   {
    "duration": 1179,
    "start_time": "2022-06-27T12:31:56.488Z"
   },
   {
    "duration": 697,
    "start_time": "2022-06-27T12:31:57.669Z"
   },
   {
    "duration": 29,
    "start_time": "2022-06-27T12:31:58.367Z"
   },
   {
    "duration": 17,
    "start_time": "2022-06-27T12:31:58.398Z"
   },
   {
    "duration": 252,
    "start_time": "2022-06-27T12:31:58.417Z"
   },
   {
    "duration": 6,
    "start_time": "2022-06-27T12:31:58.671Z"
   },
   {
    "duration": 12,
    "start_time": "2022-06-27T12:31:58.679Z"
   },
   {
    "duration": 19,
    "start_time": "2022-06-27T12:31:58.692Z"
   },
   {
    "duration": 134,
    "start_time": "2022-06-27T12:31:58.713Z"
   },
   {
    "duration": 14,
    "start_time": "2022-06-27T12:31:58.849Z"
   },
   {
    "duration": 34,
    "start_time": "2022-06-27T12:31:58.865Z"
   },
   {
    "duration": 111,
    "start_time": "2022-06-27T12:31:58.900Z"
   },
   {
    "duration": 0,
    "start_time": "2022-06-27T12:31:59.012Z"
   },
   {
    "duration": 16,
    "start_time": "2022-06-27T12:33:26.063Z"
   },
   {
    "duration": 12,
    "start_time": "2022-06-27T12:33:30.111Z"
   },
   {
    "duration": 42,
    "start_time": "2022-06-27T12:33:33.499Z"
   },
   {
    "duration": 40,
    "start_time": "2022-06-27T12:33:38.654Z"
   },
   {
    "duration": 9,
    "start_time": "2022-06-27T12:33:49.871Z"
   },
   {
    "duration": 16,
    "start_time": "2022-06-27T12:33:58.913Z"
   },
   {
    "duration": 19,
    "start_time": "2022-06-27T12:34:06.150Z"
   },
   {
    "duration": 20,
    "start_time": "2022-06-27T12:34:08.710Z"
   },
   {
    "duration": 14,
    "start_time": "2022-06-27T12:34:19.160Z"
   },
   {
    "duration": 9,
    "start_time": "2022-06-27T12:34:20.134Z"
   },
   {
    "duration": 1127,
    "start_time": "2022-06-27T12:34:45.574Z"
   },
   {
    "duration": 653,
    "start_time": "2022-06-27T12:34:46.702Z"
   },
   {
    "duration": 31,
    "start_time": "2022-06-27T12:34:47.357Z"
   },
   {
    "duration": 16,
    "start_time": "2022-06-27T12:34:47.389Z"
   },
   {
    "duration": 238,
    "start_time": "2022-06-27T12:34:47.408Z"
   },
   {
    "duration": 12,
    "start_time": "2022-06-27T12:34:47.647Z"
   },
   {
    "duration": 20,
    "start_time": "2022-06-27T12:34:47.661Z"
   },
   {
    "duration": 14,
    "start_time": "2022-06-27T12:34:47.683Z"
   },
   {
    "duration": 142,
    "start_time": "2022-06-27T12:34:47.699Z"
   },
   {
    "duration": 20,
    "start_time": "2022-06-27T12:34:47.843Z"
   },
   {
    "duration": 33,
    "start_time": "2022-06-27T12:34:47.865Z"
   },
   {
    "duration": 12,
    "start_time": "2022-06-27T12:34:47.900Z"
   },
   {
    "duration": 115,
    "start_time": "2022-06-27T12:34:47.914Z"
   },
   {
    "duration": 4,
    "start_time": "2022-06-27T12:35:01.407Z"
   },
   {
    "duration": 4,
    "start_time": "2022-06-27T12:35:25.369Z"
   },
   {
    "duration": 6,
    "start_time": "2022-06-27T12:36:31.694Z"
   },
   {
    "duration": 8,
    "start_time": "2022-06-27T12:36:42.455Z"
   },
   {
    "duration": 888,
    "start_time": "2022-06-27T12:36:45.390Z"
   },
   {
    "duration": 48,
    "start_time": "2022-06-27T12:36:55.051Z"
   },
   {
    "duration": 324,
    "start_time": "2022-06-27T12:37:00.255Z"
   },
   {
    "duration": 4,
    "start_time": "2022-06-27T12:40:17.422Z"
   },
   {
    "duration": 25,
    "start_time": "2022-06-27T12:40:59.564Z"
   },
   {
    "duration": 220,
    "start_time": "2022-06-27T12:44:51.784Z"
   },
   {
    "duration": 212,
    "start_time": "2022-06-27T12:45:05.258Z"
   },
   {
    "duration": 196,
    "start_time": "2022-06-27T12:45:39.232Z"
   },
   {
    "duration": 194,
    "start_time": "2022-06-27T12:46:00.495Z"
   },
   {
    "duration": 196,
    "start_time": "2022-06-27T12:46:46.089Z"
   },
   {
    "duration": 181,
    "start_time": "2022-06-27T12:47:39.101Z"
   },
   {
    "duration": 193,
    "start_time": "2022-06-27T12:48:18.676Z"
   },
   {
    "duration": 189,
    "start_time": "2022-06-27T12:49:31.761Z"
   },
   {
    "duration": 201,
    "start_time": "2022-06-27T12:50:06.435Z"
   },
   {
    "duration": 202,
    "start_time": "2022-06-27T12:50:29.113Z"
   },
   {
    "duration": 206,
    "start_time": "2022-06-27T12:50:41.929Z"
   },
   {
    "duration": 240,
    "start_time": "2022-06-27T12:59:43.701Z"
   },
   {
    "duration": 190,
    "start_time": "2022-06-27T13:00:11.092Z"
   },
   {
    "duration": 191,
    "start_time": "2022-06-27T13:00:16.907Z"
   },
   {
    "duration": 197,
    "start_time": "2022-06-27T13:00:24.074Z"
   },
   {
    "duration": 196,
    "start_time": "2022-06-27T13:00:29.938Z"
   },
   {
    "duration": 226,
    "start_time": "2022-06-27T13:00:35.282Z"
   },
   {
    "duration": 198,
    "start_time": "2022-06-27T13:00:38.733Z"
   },
   {
    "duration": 18,
    "start_time": "2022-06-27T13:06:37.332Z"
   },
   {
    "duration": 6,
    "start_time": "2022-06-27T13:09:18.795Z"
   },
   {
    "duration": 226,
    "start_time": "2022-06-27T13:09:25.108Z"
   },
   {
    "duration": 195,
    "start_time": "2022-06-27T13:09:37.283Z"
   },
   {
    "duration": 180,
    "start_time": "2022-06-27T13:09:40.621Z"
   },
   {
    "duration": 183,
    "start_time": "2022-06-27T13:09:48.133Z"
   },
   {
    "duration": 4,
    "start_time": "2022-06-27T13:13:12.998Z"
   },
   {
    "duration": 5,
    "start_time": "2022-06-27T13:13:27.668Z"
   },
   {
    "duration": 609,
    "start_time": "2022-06-27T13:18:40.477Z"
   },
   {
    "duration": 10,
    "start_time": "2022-06-27T13:19:04.263Z"
   },
   {
    "duration": 161,
    "start_time": "2022-06-27T13:32:01.344Z"
   },
   {
    "duration": 5,
    "start_time": "2022-06-27T13:32:18.096Z"
   },
   {
    "duration": 177,
    "start_time": "2022-06-27T13:32:19.086Z"
   },
   {
    "duration": 11,
    "start_time": "2022-06-27T13:33:33.287Z"
   },
   {
    "duration": 1029,
    "start_time": "2022-06-27T13:33:41.759Z"
   },
   {
    "duration": 1143,
    "start_time": "2022-06-27T13:35:30.717Z"
   },
   {
    "duration": 1077,
    "start_time": "2022-06-27T13:35:57.922Z"
   },
   {
    "duration": 1291,
    "start_time": "2022-06-27T13:36:34.521Z"
   },
   {
    "duration": 1042,
    "start_time": "2022-06-27T13:36:42.541Z"
   },
   {
    "duration": 523,
    "start_time": "2022-06-27T13:37:32.098Z"
   },
   {
    "duration": 644,
    "start_time": "2022-06-27T13:37:47.649Z"
   },
   {
    "duration": 1173,
    "start_time": "2022-06-27T13:37:54.361Z"
   },
   {
    "duration": 516,
    "start_time": "2022-06-27T13:38:21.754Z"
   },
   {
    "duration": 542,
    "start_time": "2022-06-27T13:38:41.386Z"
   },
   {
    "duration": 1648,
    "start_time": "2022-06-27T13:39:15.092Z"
   },
   {
    "duration": 585,
    "start_time": "2022-06-27T13:39:32.571Z"
   },
   {
    "duration": 305,
    "start_time": "2022-06-27T14:41:38.645Z"
   },
   {
    "duration": 161,
    "start_time": "2022-06-27T14:41:58.168Z"
   },
   {
    "duration": 5,
    "start_time": "2022-06-27T14:44:06.629Z"
   },
   {
    "duration": 5,
    "start_time": "2022-06-27T14:44:07.837Z"
   },
   {
    "duration": 14,
    "start_time": "2022-06-27T14:44:08.263Z"
   },
   {
    "duration": 130,
    "start_time": "2022-06-27T14:44:09.773Z"
   },
   {
    "duration": 149,
    "start_time": "2022-06-27T14:44:10.732Z"
   },
   {
    "duration": 16,
    "start_time": "2022-06-27T14:44:11.300Z"
   },
   {
    "duration": 6,
    "start_time": "2022-06-27T14:44:12.500Z"
   },
   {
    "duration": 184,
    "start_time": "2022-06-27T14:44:13.036Z"
   },
   {
    "duration": 194,
    "start_time": "2022-06-27T14:44:13.415Z"
   },
   {
    "duration": 182,
    "start_time": "2022-06-27T14:44:13.741Z"
   },
   {
    "duration": 3,
    "start_time": "2022-06-27T14:44:14.204Z"
   },
   {
    "duration": 18,
    "start_time": "2022-06-27T14:44:14.561Z"
   },
   {
    "duration": 1381,
    "start_time": "2022-06-27T14:44:30.433Z"
   },
   {
    "duration": 667,
    "start_time": "2022-06-27T14:44:31.816Z"
   },
   {
    "duration": 31,
    "start_time": "2022-06-27T14:44:32.484Z"
   },
   {
    "duration": 42,
    "start_time": "2022-06-27T14:44:32.518Z"
   },
   {
    "duration": 266,
    "start_time": "2022-06-27T14:44:32.563Z"
   },
   {
    "duration": 6,
    "start_time": "2022-06-27T14:44:32.831Z"
   },
   {
    "duration": 16,
    "start_time": "2022-06-27T14:44:32.838Z"
   },
   {
    "duration": 21,
    "start_time": "2022-06-27T14:44:32.856Z"
   },
   {
    "duration": 157,
    "start_time": "2022-06-27T14:44:32.879Z"
   },
   {
    "duration": 23,
    "start_time": "2022-06-27T14:44:33.038Z"
   },
   {
    "duration": 29,
    "start_time": "2022-06-27T14:44:33.062Z"
   },
   {
    "duration": 5,
    "start_time": "2022-06-27T14:44:33.094Z"
   },
   {
    "duration": 208,
    "start_time": "2022-06-27T14:44:33.101Z"
   },
   {
    "duration": 207,
    "start_time": "2022-06-27T14:44:33.313Z"
   },
   {
    "duration": 209,
    "start_time": "2022-06-27T14:44:33.522Z"
   },
   {
    "duration": 4,
    "start_time": "2022-06-27T14:44:33.732Z"
   },
   {
    "duration": 153,
    "start_time": "2022-06-27T14:44:33.738Z"
   },
   {
    "duration": 17,
    "start_time": "2022-06-27T14:44:58.458Z"
   },
   {
    "duration": 153,
    "start_time": "2022-06-27T14:47:24.810Z"
   },
   {
    "duration": 6,
    "start_time": "2022-06-27T14:49:14.436Z"
   },
   {
    "duration": 194,
    "start_time": "2022-06-27T14:49:15.002Z"
   },
   {
    "duration": 290,
    "start_time": "2022-06-27T14:49:15.867Z"
   },
   {
    "duration": 188,
    "start_time": "2022-06-27T14:49:16.472Z"
   },
   {
    "duration": 19,
    "start_time": "2022-06-27T14:50:26.829Z"
   },
   {
    "duration": 6,
    "start_time": "2022-06-27T14:52:56.002Z"
   },
   {
    "duration": 47,
    "start_time": "2022-06-27T14:53:13.471Z"
   },
   {
    "duration": 6,
    "start_time": "2022-06-27T14:53:25.859Z"
   },
   {
    "duration": 319,
    "start_time": "2022-06-29T08:03:53.902Z"
   },
   {
    "duration": 313,
    "start_time": "2022-06-29T08:08:29.285Z"
   },
   {
    "duration": 210,
    "start_time": "2022-06-29T08:08:39.206Z"
   },
   {
    "duration": 21,
    "start_time": "2022-06-29T08:09:18.422Z"
   },
   {
    "duration": 214,
    "start_time": "2022-06-29T08:10:37.432Z"
   },
   {
    "duration": 211,
    "start_time": "2022-06-29T08:11:40.296Z"
   },
   {
    "duration": 192,
    "start_time": "2022-06-29T08:13:47.662Z"
   },
   {
    "duration": 187,
    "start_time": "2022-06-29T08:14:26.169Z"
   },
   {
    "duration": 303,
    "start_time": "2022-06-29T11:13:41.981Z"
   },
   {
    "duration": 21,
    "start_time": "2022-06-29T11:22:39.614Z"
   },
   {
    "duration": 18,
    "start_time": "2022-06-29T11:23:11.103Z"
   },
   {
    "duration": 1319,
    "start_time": "2022-06-29T11:23:19.368Z"
   },
   {
    "duration": 721,
    "start_time": "2022-06-29T11:23:20.689Z"
   },
   {
    "duration": 24,
    "start_time": "2022-06-29T11:23:21.412Z"
   },
   {
    "duration": 27,
    "start_time": "2022-06-29T11:23:21.437Z"
   },
   {
    "duration": 230,
    "start_time": "2022-06-29T11:23:21.467Z"
   },
   {
    "duration": 7,
    "start_time": "2022-06-29T11:23:21.700Z"
   },
   {
    "duration": 6,
    "start_time": "2022-06-29T11:23:21.708Z"
   },
   {
    "duration": 22,
    "start_time": "2022-06-29T11:23:21.716Z"
   },
   {
    "duration": 144,
    "start_time": "2022-06-29T11:23:21.740Z"
   },
   {
    "duration": 14,
    "start_time": "2022-06-29T11:23:21.886Z"
   },
   {
    "duration": 43,
    "start_time": "2022-06-29T11:23:21.901Z"
   },
   {
    "duration": 8,
    "start_time": "2022-06-29T11:23:21.946Z"
   },
   {
    "duration": 233,
    "start_time": "2022-06-29T11:23:21.956Z"
   },
   {
    "duration": 221,
    "start_time": "2022-06-29T11:23:22.191Z"
   },
   {
    "duration": 251,
    "start_time": "2022-06-29T11:23:22.414Z"
   },
   {
    "duration": 5,
    "start_time": "2022-06-29T11:23:22.667Z"
   },
   {
    "duration": 181,
    "start_time": "2022-06-29T11:23:22.673Z"
   },
   {
    "duration": 208,
    "start_time": "2022-06-29T11:23:22.856Z"
   },
   {
    "duration": 286,
    "start_time": "2022-06-29T11:23:23.066Z"
   },
   {
    "duration": 214,
    "start_time": "2022-06-29T11:23:23.353Z"
   },
   {
    "duration": 203,
    "start_time": "2022-06-29T11:23:23.569Z"
   },
   {
    "duration": 120,
    "start_time": "2022-06-29T11:23:23.773Z"
   },
   {
    "duration": 0,
    "start_time": "2022-06-29T11:23:23.894Z"
   },
   {
    "duration": 27,
    "start_time": "2022-06-29T11:23:37.199Z"
   },
   {
    "duration": 2096,
    "start_time": "2022-06-29T11:23:49.559Z"
   },
   {
    "duration": 1885,
    "start_time": "2022-06-29T11:23:55.872Z"
   },
   {
    "duration": 4427,
    "start_time": "2022-06-29T11:24:03.926Z"
   },
   {
    "duration": 4700,
    "start_time": "2022-06-29T11:24:38.359Z"
   },
   {
    "duration": 1888,
    "start_time": "2022-06-29T11:24:47.776Z"
   },
   {
    "duration": 9,
    "start_time": "2022-06-29T11:29:42.200Z"
   },
   {
    "duration": 29,
    "start_time": "2022-06-29T11:31:11.273Z"
   },
   {
    "duration": 4,
    "start_time": "2022-06-29T11:32:38.684Z"
   },
   {
    "duration": 1069,
    "start_time": "2022-06-29T11:32:45.809Z"
   },
   {
    "duration": 104106,
    "start_time": "2022-06-29T11:32:54.760Z"
   },
   {
    "duration": 21623,
    "start_time": "2022-06-29T11:35:20.009Z"
   },
   {
    "duration": 869,
    "start_time": "2022-06-29T11:37:36.133Z"
   },
   {
    "duration": 16,
    "start_time": "2022-06-29T11:37:55.866Z"
   },
   {
    "duration": 2107,
    "start_time": "2022-06-29T11:37:57.849Z"
   },
   {
    "duration": 120050,
    "start_time": "2022-06-29T11:38:01.353Z"
   },
   {
    "duration": 261577,
    "start_time": "2022-06-29T11:41:02.042Z"
   },
   {
    "duration": 0,
    "start_time": "2022-06-29T11:45:23.621Z"
   },
   {
    "duration": 202,
    "start_time": "2022-06-29T11:45:41.643Z"
   },
   {
    "duration": 203,
    "start_time": "2022-06-29T11:45:53.091Z"
   },
   {
    "duration": 3,
    "start_time": "2022-06-29T11:55:27.237Z"
   },
   {
    "duration": 3,
    "start_time": "2022-06-29T11:56:02.526Z"
   },
   {
    "duration": 1929,
    "start_time": "2022-06-29T11:56:51.533Z"
   },
   {
    "duration": 4,
    "start_time": "2022-06-29T11:57:14.183Z"
   },
   {
    "duration": 14,
    "start_time": "2022-06-29T11:57:14.974Z"
   },
   {
    "duration": 1913,
    "start_time": "2022-06-29T11:57:15.940Z"
   },
   {
    "duration": 4091,
    "start_time": "2022-06-29T12:20:28.679Z"
   },
   {
    "duration": 4214,
    "start_time": "2022-06-29T12:22:00.839Z"
   },
   {
    "duration": 18,
    "start_time": "2022-06-29T12:24:45.173Z"
   },
   {
    "duration": 2931,
    "start_time": "2022-06-29T12:26:15.211Z"
   },
   {
    "duration": 19,
    "start_time": "2022-06-29T12:26:31.082Z"
   },
   {
    "duration": 4834,
    "start_time": "2022-06-29T12:27:19.380Z"
   },
   {
    "duration": 5,
    "start_time": "2022-06-29T12:27:57.663Z"
   },
   {
    "duration": 18,
    "start_time": "2022-06-29T12:27:58.333Z"
   },
   {
    "duration": 5080,
    "start_time": "2022-06-29T12:27:59.448Z"
   },
   {
    "duration": 18,
    "start_time": "2022-06-29T12:28:34.528Z"
   },
   {
    "duration": 4361,
    "start_time": "2022-06-29T12:28:47.512Z"
   },
   {
    "duration": 4722,
    "start_time": "2022-06-29T12:29:30.145Z"
   },
   {
    "duration": 3527,
    "start_time": "2022-06-29T12:30:27.640Z"
   },
   {
    "duration": 3614,
    "start_time": "2022-06-29T12:31:36.165Z"
   },
   {
    "duration": 105608,
    "start_time": "2022-06-29T12:33:46.275Z"
   },
   {
    "duration": 21855,
    "start_time": "2022-06-29T12:35:44.995Z"
   },
   {
    "duration": 96351,
    "start_time": "2022-06-29T12:47:52.011Z"
   },
   {
    "duration": 105819,
    "start_time": "2022-06-29T12:50:31.392Z"
   },
   {
    "duration": 39811,
    "start_time": "2022-06-29T12:52:41.011Z"
   },
   {
    "duration": 1318,
    "start_time": "2022-06-29T12:55:29.394Z"
   },
   {
    "duration": 687,
    "start_time": "2022-06-29T12:55:30.714Z"
   },
   {
    "duration": 25,
    "start_time": "2022-06-29T12:55:31.403Z"
   },
   {
    "duration": 35,
    "start_time": "2022-06-29T12:55:31.430Z"
   },
   {
    "duration": 252,
    "start_time": "2022-06-29T12:55:31.467Z"
   },
   {
    "duration": 6,
    "start_time": "2022-06-29T12:55:31.721Z"
   },
   {
    "duration": 26,
    "start_time": "2022-06-29T12:55:31.728Z"
   },
   {
    "duration": 43,
    "start_time": "2022-06-29T12:55:31.763Z"
   },
   {
    "duration": 130,
    "start_time": "2022-06-29T12:55:31.808Z"
   },
   {
    "duration": 22,
    "start_time": "2022-06-29T12:55:31.940Z"
   },
   {
    "duration": 28,
    "start_time": "2022-06-29T12:55:31.964Z"
   },
   {
    "duration": 6,
    "start_time": "2022-06-29T12:55:31.993Z"
   },
   {
    "duration": 212,
    "start_time": "2022-06-29T12:55:32.001Z"
   },
   {
    "duration": 215,
    "start_time": "2022-06-29T12:55:32.215Z"
   },
   {
    "duration": 236,
    "start_time": "2022-06-29T12:55:32.431Z"
   },
   {
    "duration": 3,
    "start_time": "2022-06-29T12:55:32.669Z"
   },
   {
    "duration": 172,
    "start_time": "2022-06-29T12:55:32.674Z"
   },
   {
    "duration": 283,
    "start_time": "2022-06-29T12:55:32.851Z"
   },
   {
    "duration": 3,
    "start_time": "2022-06-29T12:55:33.136Z"
   },
   {
    "duration": 51,
    "start_time": "2022-06-29T12:55:33.141Z"
   },
   {
    "duration": 4665,
    "start_time": "2022-06-29T12:55:33.193Z"
   },
   {
    "duration": 3198,
    "start_time": "2022-06-29T12:55:37.868Z"
   },
   {
    "duration": 104800,
    "start_time": "2022-06-29T12:55:41.067Z"
   },
   {
    "duration": 248769,
    "start_time": "2022-06-29T12:57:25.869Z"
   },
   {
    "duration": 110663,
    "start_time": "2022-06-29T13:01:34.641Z"
   },
   {
    "duration": 268807,
    "start_time": "2022-06-29T13:03:25.307Z"
   },
   {
    "duration": 50518,
    "start_time": "2022-06-29T13:08:56.637Z"
   },
   {
    "duration": 127,
    "start_time": "2022-06-29T13:11:39.406Z"
   },
   {
    "duration": 10839,
    "start_time": "2022-06-29T13:11:47.500Z"
   },
   {
    "duration": 54015,
    "start_time": "2022-06-29T13:12:07.344Z"
   },
   {
    "duration": 108,
    "start_time": "2022-06-29T13:18:27.808Z"
   },
   {
    "duration": 60,
    "start_time": "2022-06-29T13:18:55.599Z"
   },
   {
    "duration": 86,
    "start_time": "2022-06-29T13:19:01.470Z"
   },
   {
    "duration": 15,
    "start_time": "2022-06-29T13:19:06.613Z"
   },
   {
    "duration": 37,
    "start_time": "2022-06-30T08:39:29.514Z"
   },
   {
    "duration": 1367,
    "start_time": "2022-06-30T08:39:36.157Z"
   },
   {
    "duration": 712,
    "start_time": "2022-06-30T08:39:37.526Z"
   },
   {
    "duration": 32,
    "start_time": "2022-06-30T08:39:38.240Z"
   },
   {
    "duration": 17,
    "start_time": "2022-06-30T08:39:38.273Z"
   },
   {
    "duration": 262,
    "start_time": "2022-06-30T08:39:38.293Z"
   },
   {
    "duration": 7,
    "start_time": "2022-06-30T08:39:38.557Z"
   },
   {
    "duration": 7,
    "start_time": "2022-06-30T08:39:38.565Z"
   },
   {
    "duration": 15,
    "start_time": "2022-06-30T08:39:38.574Z"
   },
   {
    "duration": 162,
    "start_time": "2022-06-30T08:39:38.591Z"
   },
   {
    "duration": 12,
    "start_time": "2022-06-30T08:39:38.755Z"
   },
   {
    "duration": 22,
    "start_time": "2022-06-30T08:39:38.769Z"
   },
   {
    "duration": 6,
    "start_time": "2022-06-30T08:39:38.793Z"
   },
   {
    "duration": 231,
    "start_time": "2022-06-30T08:39:38.801Z"
   },
   {
    "duration": 214,
    "start_time": "2022-06-30T08:39:39.035Z"
   },
   {
    "duration": 226,
    "start_time": "2022-06-30T08:39:39.252Z"
   },
   {
    "duration": 3,
    "start_time": "2022-06-30T08:39:39.480Z"
   },
   {
    "duration": 188,
    "start_time": "2022-06-30T08:39:39.485Z"
   },
   {
    "duration": 290,
    "start_time": "2022-06-30T08:39:39.675Z"
   },
   {
    "duration": 3,
    "start_time": "2022-06-30T08:39:39.967Z"
   },
   {
    "duration": 34,
    "start_time": "2022-06-30T08:39:39.972Z"
   },
   {
    "duration": 2145,
    "start_time": "2022-06-30T08:39:40.008Z"
   },
   {
    "duration": 2101,
    "start_time": "2022-06-30T08:39:42.155Z"
   },
   {
    "duration": 1775,
    "start_time": "2022-06-30T08:39:44.258Z"
   },
   {
    "duration": 0,
    "start_time": "2022-06-30T08:39:46.034Z"
   },
   {
    "duration": 0,
    "start_time": "2022-06-30T08:39:46.036Z"
   },
   {
    "duration": 0,
    "start_time": "2022-06-30T08:39:46.037Z"
   },
   {
    "duration": 0,
    "start_time": "2022-06-30T08:39:46.038Z"
   },
   {
    "duration": 0,
    "start_time": "2022-06-30T08:39:46.052Z"
   },
   {
    "duration": 0,
    "start_time": "2022-06-30T08:39:46.053Z"
   },
   {
    "duration": 0,
    "start_time": "2022-06-30T08:39:46.054Z"
   },
   {
    "duration": 39,
    "start_time": "2022-06-30T08:39:55.369Z"
   },
   {
    "duration": 34,
    "start_time": "2022-06-30T08:40:29.594Z"
   },
   {
    "duration": 1465,
    "start_time": "2022-06-30T08:40:38.878Z"
   },
   {
    "duration": 694,
    "start_time": "2022-06-30T08:40:40.345Z"
   },
   {
    "duration": 34,
    "start_time": "2022-06-30T08:40:41.040Z"
   },
   {
    "duration": 20,
    "start_time": "2022-06-30T08:40:41.076Z"
   },
   {
    "duration": 277,
    "start_time": "2022-06-30T08:40:41.097Z"
   },
   {
    "duration": 10,
    "start_time": "2022-06-30T08:40:41.376Z"
   },
   {
    "duration": 9,
    "start_time": "2022-06-30T08:40:41.389Z"
   },
   {
    "duration": 19,
    "start_time": "2022-06-30T08:40:41.400Z"
   },
   {
    "duration": 158,
    "start_time": "2022-06-30T08:40:41.420Z"
   },
   {
    "duration": 12,
    "start_time": "2022-06-30T08:40:41.581Z"
   },
   {
    "duration": 23,
    "start_time": "2022-06-30T08:40:41.595Z"
   },
   {
    "duration": 6,
    "start_time": "2022-06-30T08:40:41.620Z"
   },
   {
    "duration": 230,
    "start_time": "2022-06-30T08:40:41.627Z"
   },
   {
    "duration": 205,
    "start_time": "2022-06-30T08:40:41.859Z"
   },
   {
    "duration": 255,
    "start_time": "2022-06-30T08:40:42.065Z"
   },
   {
    "duration": 3,
    "start_time": "2022-06-30T08:40:42.322Z"
   },
   {
    "duration": 176,
    "start_time": "2022-06-30T08:40:42.326Z"
   },
   {
    "duration": 297,
    "start_time": "2022-06-30T08:40:42.504Z"
   },
   {
    "duration": 4,
    "start_time": "2022-06-30T08:40:42.803Z"
   },
   {
    "duration": 143,
    "start_time": "2022-06-30T08:40:42.809Z"
   },
   {
    "duration": 0,
    "start_time": "2022-06-30T08:40:42.954Z"
   },
   {
    "duration": 0,
    "start_time": "2022-06-30T08:40:42.955Z"
   },
   {
    "duration": 0,
    "start_time": "2022-06-30T08:40:42.956Z"
   },
   {
    "duration": 0,
    "start_time": "2022-06-30T08:40:42.958Z"
   },
   {
    "duration": 0,
    "start_time": "2022-06-30T08:40:42.959Z"
   },
   {
    "duration": 0,
    "start_time": "2022-06-30T08:40:42.960Z"
   },
   {
    "duration": 0,
    "start_time": "2022-06-30T08:40:42.961Z"
   },
   {
    "duration": 0,
    "start_time": "2022-06-30T08:40:42.963Z"
   },
   {
    "duration": 0,
    "start_time": "2022-06-30T08:40:42.964Z"
   },
   {
    "duration": 0,
    "start_time": "2022-06-30T08:40:42.966Z"
   },
   {
    "duration": 46,
    "start_time": "2022-06-30T08:41:01.807Z"
   },
   {
    "duration": 32,
    "start_time": "2022-06-30T08:43:21.231Z"
   },
   {
    "duration": 42,
    "start_time": "2022-06-30T08:43:37.240Z"
   },
   {
    "duration": 10,
    "start_time": "2022-06-30T08:46:31.830Z"
   },
   {
    "duration": 5,
    "start_time": "2022-06-30T08:46:40.669Z"
   },
   {
    "duration": 33,
    "start_time": "2022-06-30T08:47:14.801Z"
   },
   {
    "duration": 20,
    "start_time": "2022-06-30T08:47:32.257Z"
   },
   {
    "duration": 9,
    "start_time": "2022-06-30T08:49:00.549Z"
   },
   {
    "duration": 5,
    "start_time": "2022-06-30T08:49:14.230Z"
   },
   {
    "duration": 14,
    "start_time": "2022-06-30T08:50:06.854Z"
   },
   {
    "duration": 262,
    "start_time": "2022-06-30T08:53:28.396Z"
   },
   {
    "duration": 33,
    "start_time": "2022-06-30T10:57:17.433Z"
   },
   {
    "duration": 33,
    "start_time": "2022-06-30T11:00:13.073Z"
   },
   {
    "duration": 24,
    "start_time": "2022-06-30T11:01:52.989Z"
   },
   {
    "duration": 24,
    "start_time": "2022-06-30T11:02:30.499Z"
   },
   {
    "duration": 801,
    "start_time": "2022-06-30T11:02:47.203Z"
   },
   {
    "duration": 22,
    "start_time": "2022-06-30T11:03:38.876Z"
   },
   {
    "duration": 10,
    "start_time": "2022-06-30T11:03:59.093Z"
   },
   {
    "duration": 11,
    "start_time": "2022-06-30T11:04:56.506Z"
   },
   {
    "duration": 5,
    "start_time": "2022-06-30T11:05:12.536Z"
   },
   {
    "duration": 13,
    "start_time": "2022-06-30T11:05:37.273Z"
   },
   {
    "duration": 10,
    "start_time": "2022-06-30T11:05:52.339Z"
   },
   {
    "duration": 13,
    "start_time": "2022-06-30T11:06:13.375Z"
   },
   {
    "duration": 10,
    "start_time": "2022-06-30T11:06:22.678Z"
   },
   {
    "duration": 14,
    "start_time": "2022-06-30T11:06:34.528Z"
   },
   {
    "duration": 12,
    "start_time": "2022-06-30T11:06:49.369Z"
   },
   {
    "duration": 9,
    "start_time": "2022-06-30T11:07:12.916Z"
   },
   {
    "duration": 13,
    "start_time": "2022-06-30T11:07:22.615Z"
   },
   {
    "duration": 10,
    "start_time": "2022-06-30T11:07:37.021Z"
   },
   {
    "duration": 14,
    "start_time": "2022-06-30T11:07:41.380Z"
   },
   {
    "duration": 9,
    "start_time": "2022-06-30T11:09:33.781Z"
   },
   {
    "duration": 10,
    "start_time": "2022-06-30T11:09:47.342Z"
   },
   {
    "duration": 11,
    "start_time": "2022-06-30T11:09:58.057Z"
   },
   {
    "duration": 14,
    "start_time": "2022-06-30T11:12:02.415Z"
   },
   {
    "duration": 16,
    "start_time": "2022-06-30T11:12:12.536Z"
   },
   {
    "duration": 9,
    "start_time": "2022-06-30T11:12:37.922Z"
   },
   {
    "duration": 5,
    "start_time": "2022-06-30T11:12:44.295Z"
   },
   {
    "duration": 466,
    "start_time": "2022-06-30T11:14:38.401Z"
   },
   {
    "duration": 64,
    "start_time": "2022-06-30T11:14:58.182Z"
   },
   {
    "duration": 29,
    "start_time": "2022-06-30T11:15:02.492Z"
   },
   {
    "duration": 4,
    "start_time": "2022-06-30T11:15:24.565Z"
   },
   {
    "duration": 6,
    "start_time": "2022-06-30T11:15:47.570Z"
   },
   {
    "duration": 29,
    "start_time": "2022-06-30T11:15:58.997Z"
   },
   {
    "duration": 10,
    "start_time": "2022-06-30T11:16:13.590Z"
   },
   {
    "duration": 4,
    "start_time": "2022-06-30T11:17:13.376Z"
   },
   {
    "duration": 10,
    "start_time": "2022-06-30T11:17:20.798Z"
   },
   {
    "duration": 11,
    "start_time": "2022-06-30T11:17:30.364Z"
   },
   {
    "duration": 3,
    "start_time": "2022-06-30T11:17:48.629Z"
   },
   {
    "duration": 812,
    "start_time": "2022-06-30T11:17:55.507Z"
   },
   {
    "duration": 3,
    "start_time": "2022-06-30T11:18:07.406Z"
   },
   {
    "duration": 3,
    "start_time": "2022-06-30T11:18:11.673Z"
   },
   {
    "duration": 5,
    "start_time": "2022-06-30T11:18:14.892Z"
   },
   {
    "duration": 3,
    "start_time": "2022-06-30T11:18:35.587Z"
   },
   {
    "duration": 3,
    "start_time": "2022-06-30T11:18:39.419Z"
   },
   {
    "duration": 4,
    "start_time": "2022-06-30T11:20:23.028Z"
   },
   {
    "duration": 5,
    "start_time": "2022-06-30T11:20:42.745Z"
   },
   {
    "duration": 26,
    "start_time": "2022-06-30T11:21:13.392Z"
   },
   {
    "duration": 25,
    "start_time": "2022-06-30T11:21:23.773Z"
   },
   {
    "duration": 21,
    "start_time": "2022-06-30T11:21:45.837Z"
   },
   {
    "duration": 1538,
    "start_time": "2022-06-30T11:21:49.719Z"
   },
   {
    "duration": 1368,
    "start_time": "2022-06-30T11:21:57.084Z"
   },
   {
    "duration": 60962,
    "start_time": "2022-06-30T11:22:02.544Z"
   },
   {
    "duration": 0,
    "start_time": "2022-06-30T11:23:03.508Z"
   },
   {
    "duration": 84068,
    "start_time": "2022-06-30T11:23:17.972Z"
   },
   {
    "duration": 241351,
    "start_time": "2022-06-30T11:24:50.989Z"
   },
   {
    "duration": 39487,
    "start_time": "2022-06-30T11:29:02.169Z"
   },
   {
    "duration": 11,
    "start_time": "2022-06-30T11:31:40.498Z"
   },
   {
    "duration": 19,
    "start_time": "2022-06-30T11:31:47.274Z"
   },
   {
    "duration": 1410,
    "start_time": "2022-06-30T11:32:00.926Z"
   },
   {
    "duration": 683,
    "start_time": "2022-06-30T11:32:02.339Z"
   },
   {
    "duration": 38,
    "start_time": "2022-06-30T11:32:03.028Z"
   },
   {
    "duration": 16,
    "start_time": "2022-06-30T11:32:03.067Z"
   },
   {
    "duration": 253,
    "start_time": "2022-06-30T11:32:03.084Z"
   },
   {
    "duration": 13,
    "start_time": "2022-06-30T11:32:03.339Z"
   },
   {
    "duration": 4,
    "start_time": "2022-06-30T11:32:03.353Z"
   },
   {
    "duration": 15,
    "start_time": "2022-06-30T11:32:03.359Z"
   },
   {
    "duration": 144,
    "start_time": "2022-06-30T11:32:03.376Z"
   },
   {
    "duration": 13,
    "start_time": "2022-06-30T11:32:03.522Z"
   },
   {
    "duration": 40,
    "start_time": "2022-06-30T11:32:03.537Z"
   },
   {
    "duration": 5,
    "start_time": "2022-06-30T11:32:03.579Z"
   },
   {
    "duration": 207,
    "start_time": "2022-06-30T11:32:03.585Z"
   },
   {
    "duration": 205,
    "start_time": "2022-06-30T11:32:03.794Z"
   },
   {
    "duration": 219,
    "start_time": "2022-06-30T11:32:04.001Z"
   },
   {
    "duration": 3,
    "start_time": "2022-06-30T11:32:04.222Z"
   },
   {
    "duration": 173,
    "start_time": "2022-06-30T11:32:04.227Z"
   },
   {
    "duration": 257,
    "start_time": "2022-06-30T11:32:04.401Z"
   },
   {
    "duration": 3,
    "start_time": "2022-06-30T11:32:04.660Z"
   },
   {
    "duration": 33,
    "start_time": "2022-06-30T11:32:04.664Z"
   },
   {
    "duration": 26,
    "start_time": "2022-06-30T11:32:04.698Z"
   },
   {
    "duration": 1327,
    "start_time": "2022-06-30T11:32:04.726Z"
   },
   {
    "duration": 1499,
    "start_time": "2022-06-30T11:32:06.054Z"
   },
   {
    "duration": 80963,
    "start_time": "2022-06-30T11:32:07.555Z"
   },
   {
    "duration": 236291,
    "start_time": "2022-06-30T11:33:28.520Z"
   },
   {
    "duration": 40837,
    "start_time": "2022-06-30T11:37:24.815Z"
   },
   {
    "duration": 79968,
    "start_time": "2022-06-30T11:38:05.654Z"
   },
   {
    "duration": 37340,
    "start_time": "2022-06-30T11:39:25.624Z"
   },
   {
    "duration": 0,
    "start_time": "2022-06-30T11:40:02.966Z"
   },
   {
    "duration": 0,
    "start_time": "2022-06-30T11:40:02.967Z"
   },
   {
    "duration": 0,
    "start_time": "2022-06-30T11:40:02.969Z"
   },
   {
    "duration": 0,
    "start_time": "2022-06-30T11:40:02.970Z"
   },
   {
    "duration": 27,
    "start_time": "2022-06-30T11:40:04.722Z"
   },
   {
    "duration": 25,
    "start_time": "2022-06-30T11:40:32.206Z"
   },
   {
    "duration": 22,
    "start_time": "2022-06-30T11:40:36.941Z"
   },
   {
    "duration": 1607,
    "start_time": "2022-06-30T11:40:38.757Z"
   },
   {
    "duration": 1499,
    "start_time": "2022-06-30T11:40:42.259Z"
   },
   {
    "duration": 79836,
    "start_time": "2022-06-30T11:40:43.852Z"
   },
   {
    "duration": 120806,
    "start_time": "2022-06-30T11:42:03.690Z"
   },
   {
    "duration": 28,
    "start_time": "2022-06-30T11:45:39.361Z"
   },
   {
    "duration": 26,
    "start_time": "2022-06-30T11:46:01.140Z"
   },
   {
    "duration": 36,
    "start_time": "2022-06-30T11:46:10.114Z"
   },
   {
    "duration": 34,
    "start_time": "2022-06-30T11:46:50.214Z"
   },
   {
    "duration": 1395,
    "start_time": "2022-06-30T11:47:25.666Z"
   },
   {
    "duration": 706,
    "start_time": "2022-06-30T11:47:27.063Z"
   },
   {
    "duration": 25,
    "start_time": "2022-06-30T11:47:27.770Z"
   },
   {
    "duration": 15,
    "start_time": "2022-06-30T11:47:27.797Z"
   },
   {
    "duration": 272,
    "start_time": "2022-06-30T11:47:27.814Z"
   },
   {
    "duration": 6,
    "start_time": "2022-06-30T11:47:28.088Z"
   },
   {
    "duration": 35,
    "start_time": "2022-06-30T11:47:28.095Z"
   },
   {
    "duration": 23,
    "start_time": "2022-06-30T11:47:28.132Z"
   },
   {
    "duration": 138,
    "start_time": "2022-06-30T11:47:28.157Z"
   },
   {
    "duration": 19,
    "start_time": "2022-06-30T11:47:28.296Z"
   },
   {
    "duration": 35,
    "start_time": "2022-06-30T11:47:28.317Z"
   },
   {
    "duration": 7,
    "start_time": "2022-06-30T11:47:28.354Z"
   },
   {
    "duration": 215,
    "start_time": "2022-06-30T11:47:28.363Z"
   },
   {
    "duration": 219,
    "start_time": "2022-06-30T11:47:28.582Z"
   },
   {
    "duration": 217,
    "start_time": "2022-06-30T11:47:28.803Z"
   },
   {
    "duration": 3,
    "start_time": "2022-06-30T11:47:29.022Z"
   },
   {
    "duration": 198,
    "start_time": "2022-06-30T11:47:29.027Z"
   },
   {
    "duration": 292,
    "start_time": "2022-06-30T11:47:29.227Z"
   },
   {
    "duration": 158,
    "start_time": "2022-06-30T11:47:29.520Z"
   },
   {
    "duration": 0,
    "start_time": "2022-06-30T11:47:29.680Z"
   },
   {
    "duration": 0,
    "start_time": "2022-06-30T11:47:29.681Z"
   },
   {
    "duration": 0,
    "start_time": "2022-06-30T11:47:29.683Z"
   },
   {
    "duration": 0,
    "start_time": "2022-06-30T11:47:29.684Z"
   },
   {
    "duration": 0,
    "start_time": "2022-06-30T11:47:29.686Z"
   },
   {
    "duration": 0,
    "start_time": "2022-06-30T11:47:29.686Z"
   },
   {
    "duration": 0,
    "start_time": "2022-06-30T11:47:29.688Z"
   },
   {
    "duration": 0,
    "start_time": "2022-06-30T11:47:29.689Z"
   },
   {
    "duration": 0,
    "start_time": "2022-06-30T11:47:29.690Z"
   },
   {
    "duration": 0,
    "start_time": "2022-06-30T11:47:29.691Z"
   },
   {
    "duration": 0,
    "start_time": "2022-06-30T11:47:29.692Z"
   },
   {
    "duration": 0,
    "start_time": "2022-06-30T11:47:29.693Z"
   },
   {
    "duration": 45,
    "start_time": "2022-06-30T11:51:18.688Z"
   },
   {
    "duration": 41,
    "start_time": "2022-06-30T11:51:45.612Z"
   },
   {
    "duration": 66,
    "start_time": "2022-06-30T11:52:00.412Z"
   },
   {
    "duration": 40,
    "start_time": "2022-06-30T11:52:07.456Z"
   },
   {
    "duration": 29,
    "start_time": "2022-06-30T11:52:41.211Z"
   },
   {
    "duration": 5,
    "start_time": "2022-06-30T11:52:52.587Z"
   },
   {
    "duration": 23,
    "start_time": "2022-06-30T11:52:54.172Z"
   },
   {
    "duration": 18,
    "start_time": "2022-06-30T11:53:04.975Z"
   },
   {
    "duration": 19,
    "start_time": "2022-06-30T11:53:23.763Z"
   },
   {
    "duration": 15,
    "start_time": "2022-06-30T11:53:56.650Z"
   },
   {
    "duration": 1701,
    "start_time": "2022-06-30T11:53:57.353Z"
   },
   {
    "duration": 1421,
    "start_time": "2022-06-30T11:54:01.144Z"
   },
   {
    "duration": 69706,
    "start_time": "2022-06-30T11:54:03.889Z"
   },
   {
    "duration": 1308,
    "start_time": "2022-06-30T11:58:33.794Z"
   },
   {
    "duration": 723,
    "start_time": "2022-06-30T11:58:35.104Z"
   },
   {
    "duration": 39,
    "start_time": "2022-06-30T11:58:35.829Z"
   },
   {
    "duration": 17,
    "start_time": "2022-06-30T11:58:35.870Z"
   },
   {
    "duration": 272,
    "start_time": "2022-06-30T11:58:35.889Z"
   },
   {
    "duration": 7,
    "start_time": "2022-06-30T11:58:36.163Z"
   },
   {
    "duration": 5,
    "start_time": "2022-06-30T11:58:36.172Z"
   },
   {
    "duration": 24,
    "start_time": "2022-06-30T11:58:36.179Z"
   },
   {
    "duration": 156,
    "start_time": "2022-06-30T11:58:36.205Z"
   },
   {
    "duration": 12,
    "start_time": "2022-06-30T11:58:36.363Z"
   },
   {
    "duration": 25,
    "start_time": "2022-06-30T11:58:36.376Z"
   },
   {
    "duration": 7,
    "start_time": "2022-06-30T11:58:36.403Z"
   },
   {
    "duration": 224,
    "start_time": "2022-06-30T11:58:36.412Z"
   },
   {
    "duration": 221,
    "start_time": "2022-06-30T11:58:36.639Z"
   },
   {
    "duration": 216,
    "start_time": "2022-06-30T11:58:36.862Z"
   },
   {
    "duration": 4,
    "start_time": "2022-06-30T11:58:37.079Z"
   },
   {
    "duration": 190,
    "start_time": "2022-06-30T11:58:37.085Z"
   },
   {
    "duration": 311,
    "start_time": "2022-06-30T11:58:37.277Z"
   },
   {
    "duration": 31,
    "start_time": "2022-06-30T11:58:37.590Z"
   },
   {
    "duration": 4,
    "start_time": "2022-06-30T11:58:37.623Z"
   },
   {
    "duration": 23,
    "start_time": "2022-06-30T11:58:37.652Z"
   },
   {
    "duration": 23,
    "start_time": "2022-06-30T11:58:37.677Z"
   },
   {
    "duration": 1957,
    "start_time": "2022-06-30T11:58:37.701Z"
   },
   {
    "duration": 1896,
    "start_time": "2022-06-30T11:58:39.660Z"
   },
   {
    "duration": 72941,
    "start_time": "2022-06-30T11:58:41.558Z"
   },
   {
    "duration": 203084,
    "start_time": "2022-06-30T11:59:54.501Z"
   },
   {
    "duration": 34965,
    "start_time": "2022-06-30T12:03:17.588Z"
   },
   {
    "duration": 78150,
    "start_time": "2022-06-30T12:03:52.557Z"
   },
   {
    "duration": 200275,
    "start_time": "2022-06-30T12:05:10.709Z"
   },
   {
    "duration": 33765,
    "start_time": "2022-06-30T12:08:30.986Z"
   },
   {
    "duration": 148,
    "start_time": "2022-06-30T12:09:04.754Z"
   },
   {
    "duration": 33708,
    "start_time": "2022-06-30T12:20:12.159Z"
   },
   {
    "duration": 68,
    "start_time": "2022-06-30T12:22:53.349Z"
   },
   {
    "duration": 110,
    "start_time": "2022-06-30T12:24:26.757Z"
   },
   {
    "duration": 16,
    "start_time": "2022-06-30T12:24:52.380Z"
   },
   {
    "duration": 40,
    "start_time": "2022-06-30T12:25:55.667Z"
   },
   {
    "duration": 9,
    "start_time": "2022-06-30T12:28:21.809Z"
   },
   {
    "duration": 294,
    "start_time": "2022-06-30T12:29:21.998Z"
   },
   {
    "duration": 308,
    "start_time": "2022-06-30T12:29:59.020Z"
   },
   {
    "duration": 287,
    "start_time": "2022-06-30T12:30:10.636Z"
   },
   {
    "duration": 6,
    "start_time": "2022-06-30T12:31:24.584Z"
   },
   {
    "duration": 13343,
    "start_time": "2022-06-30T12:34:57.410Z"
   },
   {
    "duration": 178276,
    "start_time": "2022-06-30T12:35:29.029Z"
   },
   {
    "duration": 42280,
    "start_time": "2022-06-30T12:40:44.174Z"
   },
   {
    "duration": 79034,
    "start_time": "2022-06-30T12:43:15.644Z"
   },
   {
    "duration": 157078,
    "start_time": "2022-06-30T12:46:25.996Z"
   },
   {
    "duration": 69222,
    "start_time": "2022-06-30T12:49:03.076Z"
   },
   {
    "duration": 276,
    "start_time": "2022-06-30T12:51:33.462Z"
   },
   {
    "duration": 294,
    "start_time": "2022-06-30T12:51:37.439Z"
   },
   {
    "duration": 72,
    "start_time": "2022-06-30T12:52:15.608Z"
   },
   {
    "duration": 74,
    "start_time": "2022-06-30T12:52:16.253Z"
   },
   {
    "duration": 3,
    "start_time": "2022-06-30T12:53:48.622Z"
   },
   {
    "duration": 6,
    "start_time": "2022-06-30T12:53:55.077Z"
   },
   {
    "duration": 7,
    "start_time": "2022-06-30T12:54:23.225Z"
   },
   {
    "duration": 5,
    "start_time": "2022-07-01T06:07:01.904Z"
   },
   {
    "duration": 6,
    "start_time": "2022-07-01T06:20:14.761Z"
   },
   {
    "duration": 190,
    "start_time": "2022-07-01T06:20:15.591Z"
   },
   {
    "duration": 230,
    "start_time": "2022-07-01T06:20:42.182Z"
   },
   {
    "duration": 884,
    "start_time": "2022-07-01T06:21:01.424Z"
   },
   {
    "duration": 203,
    "start_time": "2022-07-01T06:21:12.056Z"
   },
   {
    "duration": 5,
    "start_time": "2022-07-01T06:21:21.417Z"
   },
   {
    "duration": 211,
    "start_time": "2022-07-01T06:21:21.839Z"
   },
   {
    "duration": 195,
    "start_time": "2022-07-01T06:21:22.727Z"
   },
   {
    "duration": 843,
    "start_time": "2022-07-01T06:21:26.600Z"
   },
   {
    "duration": 14,
    "start_time": "2022-07-01T06:21:46.095Z"
   },
   {
    "duration": 6,
    "start_time": "2022-07-01T06:22:14.633Z"
   },
   {
    "duration": 252,
    "start_time": "2022-07-01T06:22:15.127Z"
   },
   {
    "duration": 214,
    "start_time": "2022-07-01T06:22:16.041Z"
   },
   {
    "duration": 224,
    "start_time": "2022-07-01T06:22:32.696Z"
   },
   {
    "duration": 341,
    "start_time": "2022-07-01T06:22:41.387Z"
   },
   {
    "duration": 45,
    "start_time": "2022-07-01T06:31:51.969Z"
   },
   {
    "duration": 62,
    "start_time": "2022-07-01T06:32:00.225Z"
   },
   {
    "duration": 46,
    "start_time": "2022-07-01T06:32:29.754Z"
   },
   {
    "duration": 50,
    "start_time": "2022-07-01T06:32:36.801Z"
   },
   {
    "duration": 61,
    "start_time": "2022-07-01T06:33:57.903Z"
   },
   {
    "duration": 57,
    "start_time": "2022-07-01T06:34:20.315Z"
   },
   {
    "duration": 55,
    "start_time": "2022-07-01T06:38:45.987Z"
   },
   {
    "duration": 479,
    "start_time": "2022-07-01T06:40:36.098Z"
   },
   {
    "duration": 504,
    "start_time": "2022-07-01T06:40:56.066Z"
   },
   {
    "duration": 661,
    "start_time": "2022-07-01T06:41:10.844Z"
   },
   {
    "duration": 747,
    "start_time": "2022-07-01T06:41:22.180Z"
   },
   {
    "duration": 4,
    "start_time": "2022-07-01T06:41:45.642Z"
   },
   {
    "duration": 633,
    "start_time": "2022-07-01T06:41:57.906Z"
   },
   {
    "duration": 681,
    "start_time": "2022-07-01T06:48:34.722Z"
   },
   {
    "duration": 678,
    "start_time": "2022-07-01T06:48:42.188Z"
   },
   {
    "duration": 780,
    "start_time": "2022-07-01T06:49:38.340Z"
   },
   {
    "duration": 632,
    "start_time": "2022-07-01T06:49:45.612Z"
   },
   {
    "duration": 638,
    "start_time": "2022-07-01T06:49:53.772Z"
   },
   {
    "duration": 601,
    "start_time": "2022-07-01T06:53:45.394Z"
   },
   {
    "duration": 827,
    "start_time": "2022-07-01T06:55:41.228Z"
   },
   {
    "duration": 696,
    "start_time": "2022-07-01T06:57:00.548Z"
   },
   {
    "duration": 598,
    "start_time": "2022-07-01T06:57:04.324Z"
   },
   {
    "duration": 750,
    "start_time": "2022-07-01T06:57:12.234Z"
   },
   {
    "duration": 22,
    "start_time": "2022-07-01T07:26:25.226Z"
   },
   {
    "duration": 17,
    "start_time": "2022-07-01T07:26:43.321Z"
   },
   {
    "duration": 22,
    "start_time": "2022-07-01T07:26:55.244Z"
   },
   {
    "duration": 5,
    "start_time": "2022-07-01T07:30:17.554Z"
   },
   {
    "duration": 10,
    "start_time": "2022-07-01T07:55:23.897Z"
   },
   {
    "duration": 2,
    "start_time": "2022-07-01T07:58:06.600Z"
   },
   {
    "duration": 12,
    "start_time": "2022-07-01T08:08:42.240Z"
   },
   {
    "duration": 6,
    "start_time": "2022-07-01T08:09:02.115Z"
   },
   {
    "duration": 1545,
    "start_time": "2022-07-01T08:09:04.513Z"
   },
   {
    "duration": 4,
    "start_time": "2022-07-01T08:26:42.845Z"
   },
   {
    "duration": 4,
    "start_time": "2022-07-01T08:33:55.949Z"
   },
   {
    "duration": 10,
    "start_time": "2022-07-01T08:34:14.104Z"
   },
   {
    "duration": 10,
    "start_time": "2022-07-01T08:34:24.128Z"
   },
   {
    "duration": 9,
    "start_time": "2022-07-01T08:34:29.888Z"
   },
   {
    "duration": 4,
    "start_time": "2022-07-01T08:34:35.584Z"
   },
   {
    "duration": 4,
    "start_time": "2022-07-01T08:35:12.698Z"
   },
   {
    "duration": 4,
    "start_time": "2022-07-01T08:40:42.410Z"
   },
   {
    "duration": 2,
    "start_time": "2022-07-01T08:42:44.650Z"
   },
   {
    "duration": 4,
    "start_time": "2022-07-01T08:43:55.181Z"
   },
   {
    "duration": 8694,
    "start_time": "2022-07-01T08:44:40.522Z"
   },
   {
    "duration": 0,
    "start_time": "2022-07-01T10:51:43.468Z"
   },
   {
    "duration": 0,
    "start_time": "2022-07-01T10:51:43.470Z"
   },
   {
    "duration": 3,
    "start_time": "2022-07-01T10:51:47.888Z"
   },
   {
    "duration": 59,
    "start_time": "2022-07-01T10:53:42.660Z"
   },
   {
    "duration": 68,
    "start_time": "2022-07-01T10:53:50.534Z"
   },
   {
    "duration": 14,
    "start_time": "2022-07-01T10:53:57.077Z"
   },
   {
    "duration": 69911,
    "start_time": "2022-07-01T10:54:08.590Z"
   },
   {
    "duration": 196268,
    "start_time": "2022-07-01T10:55:18.504Z"
   },
   {
    "duration": 11,
    "start_time": "2022-07-01T11:02:16.205Z"
   },
   {
    "duration": 26522,
    "start_time": "2022-07-01T11:02:57.431Z"
   }
  ],
  "kernelspec": {
   "display_name": "Python 3 (ipykernel)",
   "language": "python",
   "name": "python3"
  },
  "language_info": {
   "codemirror_mode": {
    "name": "ipython",
    "version": 3
   },
   "file_extension": ".py",
   "mimetype": "text/x-python",
   "name": "python",
   "nbconvert_exporter": "python",
   "pygments_lexer": "ipython3",
   "version": "3.9.5"
  },
  "toc": {
   "base_numbering": 1,
   "nav_menu": {},
   "number_sections": true,
   "sideBar": true,
   "skip_h1_title": true,
   "title_cell": "Содержание",
   "title_sidebar": "Contents",
   "toc_cell": true,
   "toc_position": {
    "height": "calc(100% - 180px)",
    "left": "10px",
    "top": "150px",
    "width": "165px"
   },
   "toc_section_display": true,
   "toc_window_display": true
  }
 },
 "nbformat": 4,
 "nbformat_minor": 2
}
